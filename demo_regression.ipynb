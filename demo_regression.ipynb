{
 "cells": [
  {
   "cell_type": "code",
   "execution_count": 1,
   "id": "52122f36-0735-4f22-a513-ac928edf803b",
   "metadata": {},
   "outputs": [
    {
     "name": "stdout",
     "output_type": "stream",
     "text": [
      "Welcome message.\n",
      "Lorem ipsum dolor sit amet.\n"
     ]
    }
   ],
   "source": [
    "%help"
   ]
  },
  {
   "cell_type": "code",
   "execution_count": 1,
   "id": "440d253a-6b8d-44f5-b3ec-73b6a4de88c6",
   "metadata": {
    "tags": []
   },
   "outputs": [
    {
     "name": "stdout",
     "output_type": "stream",
     "text": [
      "My node ID: 0xa20a85ccc2318553598ffe703aec14931b4c3473\n",
      "My wallet address: 0xa20a85ccc2318553598ffe703aec14931b4c3473\n",
      "On Polygon[mainnet]: 0.00 GLM 0.0000 MATIC\n",
      "On Rinkeby[testnet]: 999.89 tGLM 0.0001 tETH\n",
      "Connection status: Disconnected\n",
      "\n"
     ]
    }
   ],
   "source": [
    "%status"
   ]
  },
  {
   "cell_type": "code",
   "execution_count": 2,
   "id": "840527bf-2da6-4c8e-87ef-7853ba13875d",
   "metadata": {
    "tags": []
   },
   "outputs": [
    {
     "name": "stdout",
     "output_type": "stream",
     "text": [
      "Allocated 1 tglm on rinkeby"
     ]
    }
   ],
   "source": [
    "%budget rinkeby 1"
   ]
  },
  {
   "cell_type": "code",
   "execution_count": 40,
   "id": "4d3c1802-dbbc-4be9-9480-643d88b1f70d",
   "metadata": {
    "tags": []
   },
   "outputs": [
    {
     "name": "stdout",
     "output_type": "stream",
     "text": [
      "Progress: 1/3\n",
      "    Demand created. Waiting for counter proposal.\n",
      "    Searching for just any machine...\n",
      "    Will try to connect for 15 minutes.\n",
      "Progress: 2/3\n",
      "    Agreement created.\n",
      "    Connected to imapp2035-3060-1 [0x85f08a865abc7adf5f56754cd390a951406439eb]\n",
      "    RAM: 6.589084774255753 GB\n",
      "    DISK: 200.6771881103516 GB\n",
      "    CPU: 4 cores\n",
      "    GPU: GA106 [GeForce RTX 3060 Lite Hash Rate]\n",
      "Progress: 3/3\n",
      "    Engine is starting...\n",
      "Ready."
     ]
    }
   ],
   "source": [
    "%connect timeout=15m"
   ]
  },
  {
   "cell_type": "code",
   "execution_count": 41,
   "id": "7f749b64-25b9-4f21-8f15-33a53b16313d",
   "metadata": {
    "tags": []
   },
   "outputs": [
    {
     "name": "stdout",
     "output_type": "stream",
     "text": [
      "Collecting matplotlib\n",
      "  Downloading matplotlib-3.7.1-cp38-cp38-manylinux_2_12_x86_64.manylinux2010_x86_64.whl (9.2 MB)\n",
      "\u001b[?25l\n",
      "\u001b[?25hCollecting pandas\n",
      "  Downloading pandas-2.0.1-cp38-cp38-manylinux_2_17_x86_64.manylinux2014_x86_64.whl (12.3 MB)\n",
      "\u001b[?25l\n",
      "\u001b[?25hRequirement already satisfied: pyparsing>=2.3.1 in ./workdir/venv/lib/python3.8/site-packages (from matplotlib) (3.0.9)\n",
      "Collecting fonttools>=4.22.0\n",
      "  Downloading fonttools-4.39.4-py3-none-any.whl (1.0 MB)\n",
      "\u001b[?25l\n",
      "\u001b[?25hCollecting numpy>=1.20\n",
      "  Downloading numpy-1.24.3-cp38-cp38-manylinux_2_17_x86_64.manylinux2014_x86_64.whl (17.3 MB)\n",
      "\u001b[?25l\n",
      "\u001b[?25hCollecting kiwisolver>=1.0.1\n",
      "  Downloading kiwisolver-1.4.4-cp38-cp38-manylinux_2_5_x86_64.manylinux1_x86_64.whl (1.2 MB)\n",
      "\u001b[?25l\n",
      "\u001b[?25hRequirement already satisfied: python-dateutil>=2.7 in ./workdir/venv/lib/python3.8/site-packages (from matplotlib) (2.8.2)\n",
      "Collecting pillow>=6.2.0\n",
      "  Downloading Pillow-9.5.0-cp38-cp38-manylinux_2_17_x86_64.manylinux2014_x86_64.whl (3.3 MB)\n",
      "\u001b[?25l\n",
      "\u001b[?25hRequirement already satisfied: importlib-resources>=3.2.0; python_version < \"3.10\" in ./workdir/venv/lib/python3.8/site-packages (from matplotlib) (5.12.0)\n",
      "Requirement already satisfied: packaging>=20.0 in ./workdir/venv/lib/python3.8/site-packages (from matplotlib) (23.1)\n",
      "Collecting contourpy>=1.0.1\n",
      "  Downloading contourpy-1.0.7-cp38-cp38-manylinux_2_17_x86_64.manylinux2014_x86_64.whl (300 kB)\n",
      "\u001b[?25l\n",
      "\u001b[?25hCollecting cycler>=0.10\n",
      "  Downloading cycler-0.11.0-py3-none-any.whl (6.4 kB)\n",
      "Collecting tzdata>=2022.1\n",
      "  Downloading tzdata-2023.3-py2.py3-none-any.whl (341 kB)\n",
      "\u001b[?25l\n",
      "\u001b[?25hCollecting pytz>=2020.1\n",
      "  Downloading pytz-2023.3-py2.py3-none-any.whl (502 kB)\n",
      "\u001b[?25l\n",
      "\u001b[?25hRequirement already satisfied: six>=1.5 in ./workdir/venv/lib/python3.8/site-packages (from python-dateutil>=2.7->matplotlib) (1.16.0)\n",
      "Requirement already satisfied: zipp>=3.1.0; python_version < \"3.10\" in ./workdir/venv/lib/python3.8/site-packages (from importlib-resources>=3.2.0; python_version < \"3.10\"->matplotlib) (3.15.0)\n",
      "Installing collected packages: fonttools, numpy, kiwisolver, pillow, contourpy, cycler, matplotlib, tzdata, pytz, pandas\n",
      "Successfully installed contourpy-1.0.7 cycler-0.11.0 fonttools-4.39.4 kiwisolver-1.4.4 matplotlib-3.7.1 numpy-1.24.3 pandas-2.0.1 pillow-9.5.0 pytz-2023.3 tzdata-2023.3\n",
      "Note: you may need to restart the kernel to use updated packages.\n"
     ]
    }
   ],
   "source": [
    "%pip install matplotlib pandas"
   ]
  },
  {
   "cell_type": "code",
   "execution_count": 42,
   "id": "79538495-5fc3-4f7a-8957-e6647fbb9e69",
   "metadata": {
    "tags": []
   },
   "outputs": [
    {
     "name": "stdout",
     "output_type": "stream",
     "text": [
      "Sending...\n",
      "File uploaded.\n"
     ]
    }
   ],
   "source": [
    "%upload california_housing_train.csv"
   ]
  },
  {
   "cell_type": "code",
   "execution_count": 10,
   "id": "83c5951a-6cfe-4491-9a5c-bfc93d201737",
   "metadata": {
    "tags": []
   },
   "outputs": [
    {
     "name": "stdout",
     "output_type": "stream",
     "text": [
      "00:02.0 VGA compatible controller [0300]: Device [1234:1111] (rev 02) (prog-if 00 [VGA controller])\n",
      "00:05.0 VGA compatible controller [0300]: NVIDIA Corporation Device [10de:2504] (rev a1) (prog-if 00 [VGA controller])\n"
     ]
    }
   ],
   "source": [
    "!lspci -vnn | grep VGA"
   ]
  },
  {
   "cell_type": "code",
   "execution_count": 12,
   "id": "65a1355b-7b60-44c2-a88f-de6c99e829ca",
   "metadata": {
    "tags": []
   },
   "outputs": [
    {
     "name": "stdout",
     "output_type": "stream",
     "text": [
      "Wed May 10 18:12:06 2023       \n",
      "+-----------------------------------------------------------------------------+\n",
      "| NVIDIA-SMI 510.60.02    Driver Version: 510.60.02    CUDA Version: 11.6     |\n",
      "|-------------------------------+----------------------+----------------------+\n",
      "| GPU  Name        Persistence-M| Bus-Id        Disp.A | Volatile Uncorr. ECC |\n",
      "| Fan  Temp  Perf  Pwr:Usage/Cap|         Memory-Usage | GPU-Util  Compute M. |\n",
      "|                               |                      |               MIG M. |\n",
      "|===============================+======================+======================|\n",
      "|   0  NVIDIA GeForce ...  Off  | 00000000:00:05.0 Off |                  N/A |\n",
      "|  0%   58C    P0    33W / 170W |      0MiB / 12288MiB |      0%      Default |\n",
      "|                               |                      |                  N/A |\n",
      "+-------------------------------+----------------------+----------------------+\n",
      "                                                                               \n",
      "+-----------------------------------------------------------------------------+\n",
      "| Processes:                                                                  |\n",
      "|  GPU   GI   CI        PID   Type   Process name                  GPU Memory |\n",
      "|        ID   ID                                                   Usage      |\n",
      "|=============================================================================|\n",
      "|  No running processes found                                                 |\n",
      "+-----------------------------------------------------------------------------+\n"
     ]
    }
   ],
   "source": [
    "!nvidia-smi"
   ]
  },
  {
   "cell_type": "code",
   "execution_count": 71,
   "id": "1f1b4929-c46f-4e36-baa8-c3085dde5c74",
   "metadata": {
    "tags": []
   },
   "outputs": [],
   "source": [
    "import numpy as np\n",
    "import pandas as pd\n",
    "import random\n",
    "\n",
    "training_df = pd.read_csv(filepath_or_buffer=\"workdir/california_housing_train.csv\")\n",
    "\n",
    "training_df['median_house_value'] /= 1000.0\n",
    "\n",
    "# create dummy data for training\n",
    "x_values = list(training_df['total_rooms'])[:10]\n",
    "# x_values = [i for i in range(15)]\n",
    "x_train = np.array(x_values, dtype=np.float32)\n",
    "x_train = x_train.reshape(-1, 1)\n",
    "\n",
    "y_values = list(training_df['median_house_value'])[:10]\n",
    "# y_values = [2*i + 1 + random.randint(-4,4) for i in x_values]\n",
    "y_train = np.array(y_values, dtype=np.float32)\n",
    "y_train = y_train.reshape(-1, 1)\n",
    "\n",
    "import torch\n",
    "from torch.autograd import Variable\n",
    "class linearRegression(torch.nn.Module):\n",
    "    def __init__(self, inputSize, outputSize):\n",
    "        super(linearRegression, self).__init__()\n",
    "        self.linear = torch.nn.Linear(inputSize, outputSize)\n",
    "\n",
    "    def forward(self, x):\n",
    "        out = self.linear(x)\n",
    "        return out\n",
    "    \n",
    "inputDim = 1        # takes variable 'x' \n",
    "outputDim = 1       # takes variable 'y'\n",
    "learningRate = 0.01 \n",
    "epochs = 100\n",
    "\n",
    "model = linearRegression(inputDim, outputDim)\n",
    "##### For GPU #######\n",
    "if torch.cuda.is_available():\n",
    "    model.cuda()\n",
    "    \n",
    "criterion = torch.nn.MSELoss() \n",
    "optimizer = torch.optim.SGD(model.parameters(), lr=learningRate)"
   ]
  },
  {
   "cell_type": "code",
   "execution_count": 72,
   "id": "b79b7144-567b-43f0-992e-288f40770d1f",
   "metadata": {
    "collapsed": true,
    "jupyter": {
     "outputs_hidden": true
    },
    "tags": []
   },
   "outputs": [
    {
     "name": "stdout",
     "output_type": "stream",
     "text": [
      "tensor(21969.1133, device='cuda:0', grad_fn=<MseLossBackward0>)\n",
      "epoch 0, loss 21969.11328125\n",
      "tensor(1.3847e+15, device='cuda:0', grad_fn=<MseLossBackward0>)\n",
      "epoch 1, loss 1384708462084096.0\n",
      "tensor(9.5214e+25, device='cuda:0', grad_fn=<MseLossBackward0>)\n",
      "epoch 2, loss 9.521359818284276e+25\n",
      "tensor(6.5470e+36, device='cuda:0', grad_fn=<MseLossBackward0>)\n",
      "epoch 3, loss 6.546957094486822e+36\n",
      "tensor(inf, device='cuda:0', grad_fn=<MseLossBackward0>)\n",
      "epoch 4, loss inf\n",
      "tensor(inf, device='cuda:0', grad_fn=<MseLossBackward0>)\n",
      "epoch 5, loss inf\n",
      "tensor(inf, device='cuda:0', grad_fn=<MseLossBackward0>)\n",
      "epoch 6, loss inf\n",
      "tensor(inf, device='cuda:0', grad_fn=<MseLossBackward0>)\n",
      "epoch 7, loss inf\n",
      "tensor(inf, device='cuda:0', grad_fn=<MseLossBackward0>)\n",
      "epoch 8, loss inf\n",
      "tensor(nan, device='cuda:0', grad_fn=<MseLossBackward0>)\n",
      "epoch 9, loss nan\n",
      "tensor(nan, device='cuda:0', grad_fn=<MseLossBackward0>)\n",
      "epoch 10, loss nan\n",
      "tensor(nan, device='cuda:0', grad_fn=<MseLossBackward0>)\n",
      "epoch 11, loss nan\n",
      "tensor(nan, device='cuda:0', grad_fn=<MseLossBackward0>)\n",
      "epoch 12, loss nan\n",
      "tensor(nan, device='cuda:0', grad_fn=<MseLossBackward0>)\n",
      "epoch 13, loss nan\n",
      "tensor(nan, device='cuda:0', grad_fn=<MseLossBackward0>)\n",
      "epoch 14, loss nan\n",
      "tensor(nan, device='cuda:0', grad_fn=<MseLossBackward0>)\n",
      "epoch 15, loss nan\n",
      "tensor(nan, device='cuda:0', grad_fn=<MseLossBackward0>)\n",
      "epoch 16, loss nan\n",
      "tensor(nan, device='cuda:0', grad_fn=<MseLossBackward0>)\n",
      "epoch 17, loss nan\n",
      "tensor(nan, device='cuda:0', grad_fn=<MseLossBackward0>)\n",
      "epoch 18, loss nan\n",
      "tensor(nan, device='cuda:0', grad_fn=<MseLossBackward0>)\n",
      "epoch 19, loss nan\n",
      "tensor(nan, device='cuda:0', grad_fn=<MseLossBackward0>)\n",
      "epoch 20, loss nan\n",
      "tensor(nan, device='cuda:0', grad_fn=<MseLossBackward0>)\n",
      "epoch 21, loss nan\n",
      "tensor(nan, device='cuda:0', grad_fn=<MseLossBackward0>)\n",
      "epoch 22, loss nan\n",
      "tensor(nan, device='cuda:0', grad_fn=<MseLossBackward0>)\n",
      "epoch 23, loss nan\n",
      "tensor(nan, device='cuda:0', grad_fn=<MseLossBackward0>)\n",
      "epoch 24, loss nan\n",
      "tensor(nan, device='cuda:0', grad_fn=<MseLossBackward0>)\n",
      "epoch 25, loss nan\n",
      "tensor(nan, device='cuda:0', grad_fn=<MseLossBackward0>)\n",
      "epoch 26, loss nan\n",
      "tensor(nan, device='cuda:0', grad_fn=<MseLossBackward0>)\n",
      "epoch 27, loss nan\n",
      "tensor(nan, device='cuda:0', grad_fn=<MseLossBackward0>)\n",
      "epoch 28, loss nan\n",
      "tensor(nan, device='cuda:0', grad_fn=<MseLossBackward0>)\n",
      "epoch 29, loss nan\n",
      "tensor(nan, device='cuda:0', grad_fn=<MseLossBackward0>)\n",
      "epoch 30, loss nan\n",
      "tensor(nan, device='cuda:0', grad_fn=<MseLossBackward0>)\n",
      "epoch 31, loss nan\n",
      "tensor(nan, device='cuda:0', grad_fn=<MseLossBackward0>)\n",
      "epoch 32, loss nan\n",
      "tensor(nan, device='cuda:0', grad_fn=<MseLossBackward0>)\n",
      "epoch 33, loss nan\n",
      "tensor(nan, device='cuda:0', grad_fn=<MseLossBackward0>)\n",
      "epoch 34, loss nan\n",
      "tensor(nan, device='cuda:0', grad_fn=<MseLossBackward0>)\n",
      "epoch 35, loss nan\n",
      "tensor(nan, device='cuda:0', grad_fn=<MseLossBackward0>)\n",
      "epoch 36, loss nan\n",
      "tensor(nan, device='cuda:0', grad_fn=<MseLossBackward0>)\n",
      "epoch 37, loss nan\n",
      "tensor(nan, device='cuda:0', grad_fn=<MseLossBackward0>)\n",
      "epoch 38, loss nan\n",
      "tensor(nan, device='cuda:0', grad_fn=<MseLossBackward0>)\n",
      "epoch 39, loss nan\n",
      "tensor(nan, device='cuda:0', grad_fn=<MseLossBackward0>)\n",
      "epoch 40, loss nan\n",
      "tensor(nan, device='cuda:0', grad_fn=<MseLossBackward0>)\n",
      "epoch 41, loss nan\n",
      "tensor(nan, device='cuda:0', grad_fn=<MseLossBackward0>)\n",
      "epoch 42, loss nan\n",
      "tensor(nan, device='cuda:0', grad_fn=<MseLossBackward0>)\n",
      "epoch 43, loss nan\n",
      "tensor(nan, device='cuda:0', grad_fn=<MseLossBackward0>)\n",
      "epoch 44, loss nan\n",
      "tensor(nan, device='cuda:0', grad_fn=<MseLossBackward0>)\n",
      "epoch 45, loss nan\n",
      "tensor(nan, device='cuda:0', grad_fn=<MseLossBackward0>)\n",
      "epoch 46, loss nan\n",
      "tensor(nan, device='cuda:0', grad_fn=<MseLossBackward0>)\n",
      "epoch 47, loss nan\n",
      "tensor(nan, device='cuda:0', grad_fn=<MseLossBackward0>)\n",
      "epoch 48, loss nan\n",
      "tensor(nan, device='cuda:0', grad_fn=<MseLossBackward0>)\n",
      "epoch 49, loss nan\n",
      "tensor(nan, device='cuda:0', grad_fn=<MseLossBackward0>)\n",
      "epoch 50, loss nan\n",
      "tensor(nan, device='cuda:0', grad_fn=<MseLossBackward0>)\n",
      "epoch 51, loss nan\n",
      "tensor(nan, device='cuda:0', grad_fn=<MseLossBackward0>)\n",
      "epoch 52, loss nan\n",
      "tensor(nan, device='cuda:0', grad_fn=<MseLossBackward0>)\n",
      "epoch 53, loss nan\n",
      "tensor(nan, device='cuda:0', grad_fn=<MseLossBackward0>)\n",
      "epoch 54, loss nan\n",
      "tensor(nan, device='cuda:0', grad_fn=<MseLossBackward0>)\n",
      "epoch 55, loss nan\n",
      "tensor(nan, device='cuda:0', grad_fn=<MseLossBackward0>)\n",
      "epoch 56, loss nan\n",
      "tensor(nan, device='cuda:0', grad_fn=<MseLossBackward0>)\n",
      "epoch 57, loss nan\n",
      "tensor(nan, device='cuda:0', grad_fn=<MseLossBackward0>)\n",
      "epoch 58, loss nan\n",
      "tensor(nan, device='cuda:0', grad_fn=<MseLossBackward0>)\n",
      "epoch 59, loss nan\n",
      "tensor(nan, device='cuda:0', grad_fn=<MseLossBackward0>)\n",
      "epoch 60, loss nan\n",
      "tensor(nan, device='cuda:0', grad_fn=<MseLossBackward0>)\n",
      "epoch 61, loss nan\n",
      "tensor(nan, device='cuda:0', grad_fn=<MseLossBackward0>)\n",
      "epoch 62, loss nan\n",
      "tensor(nan, device='cuda:0', grad_fn=<MseLossBackward0>)\n",
      "epoch 63, loss nan\n",
      "tensor(nan, device='cuda:0', grad_fn=<MseLossBackward0>)\n",
      "epoch 64, loss nan\n",
      "tensor(nan, device='cuda:0', grad_fn=<MseLossBackward0>)\n",
      "epoch 65, loss nan\n",
      "tensor(nan, device='cuda:0', grad_fn=<MseLossBackward0>)\n",
      "epoch 66, loss nan\n",
      "tensor(nan, device='cuda:0', grad_fn=<MseLossBackward0>)\n",
      "epoch 67, loss nan\n",
      "tensor(nan, device='cuda:0', grad_fn=<MseLossBackward0>)\n",
      "epoch 68, loss nan\n",
      "tensor(nan, device='cuda:0', grad_fn=<MseLossBackward0>)\n",
      "epoch 69, loss nan\n",
      "tensor(nan, device='cuda:0', grad_fn=<MseLossBackward0>)\n",
      "epoch 70, loss nan\n",
      "tensor(nan, device='cuda:0', grad_fn=<MseLossBackward0>)\n",
      "epoch 71, loss nan\n",
      "tensor(nan, device='cuda:0', grad_fn=<MseLossBackward0>)\n",
      "epoch 72, loss nan\n",
      "tensor(nan, device='cuda:0', grad_fn=<MseLossBackward0>)\n",
      "epoch 73, loss nan\n",
      "tensor(nan, device='cuda:0', grad_fn=<MseLossBackward0>)\n",
      "epoch 74, loss nan\n",
      "tensor(nan, device='cuda:0', grad_fn=<MseLossBackward0>)\n",
      "epoch 75, loss nan\n",
      "tensor(nan, device='cuda:0', grad_fn=<MseLossBackward0>)\n",
      "epoch 76, loss nan\n",
      "tensor(nan, device='cuda:0', grad_fn=<MseLossBackward0>)\n",
      "epoch 77, loss nan\n",
      "tensor(nan, device='cuda:0', grad_fn=<MseLossBackward0>)\n",
      "epoch 78, loss nan\n",
      "tensor(nan, device='cuda:0', grad_fn=<MseLossBackward0>)\n",
      "epoch 79, loss nan\n",
      "tensor(nan, device='cuda:0', grad_fn=<MseLossBackward0>)\n",
      "epoch 80, loss nan\n",
      "tensor(nan, device='cuda:0', grad_fn=<MseLossBackward0>)\n",
      "epoch 81, loss nan\n",
      "tensor(nan, device='cuda:0', grad_fn=<MseLossBackward0>)\n",
      "epoch 82, loss nan\n",
      "tensor(nan, device='cuda:0', grad_fn=<MseLossBackward0>)\n",
      "epoch 83, loss nan\n",
      "tensor(nan, device='cuda:0', grad_fn=<MseLossBackward0>)\n",
      "epoch 84, loss nan\n",
      "tensor(nan, device='cuda:0', grad_fn=<MseLossBackward0>)\n",
      "epoch 85, loss nan\n",
      "tensor(nan, device='cuda:0', grad_fn=<MseLossBackward0>)\n",
      "epoch 86, loss nan\n",
      "tensor(nan, device='cuda:0', grad_fn=<MseLossBackward0>)\n",
      "epoch 87, loss nan\n",
      "tensor(nan, device='cuda:0', grad_fn=<MseLossBackward0>)\n",
      "epoch 88, loss nan\n",
      "tensor(nan, device='cuda:0', grad_fn=<MseLossBackward0>)\n",
      "epoch 89, loss nan\n",
      "tensor(nan, device='cuda:0', grad_fn=<MseLossBackward0>)\n",
      "epoch 90, loss nan\n",
      "tensor(nan, device='cuda:0', grad_fn=<MseLossBackward0>)\n",
      "epoch 91, loss nan\n",
      "tensor(nan, device='cuda:0', grad_fn=<MseLossBackward0>)\n",
      "epoch 92, loss nan\n",
      "tensor(nan, device='cuda:0', grad_fn=<MseLossBackward0>)\n",
      "epoch 93, loss nan\n",
      "tensor(nan, device='cuda:0', grad_fn=<MseLossBackward0>)\n",
      "epoch 94, loss nan\n",
      "tensor(nan, device='cuda:0', grad_fn=<MseLossBackward0>)\n",
      "epoch 95, loss nan\n",
      "tensor(nan, device='cuda:0', grad_fn=<MseLossBackward0>)\n",
      "epoch 96, loss nan\n",
      "tensor(nan, device='cuda:0', grad_fn=<MseLossBackward0>)\n",
      "epoch 97, loss nan\n",
      "tensor(nan, device='cuda:0', grad_fn=<MseLossBackward0>)\n",
      "epoch 98, loss nan\n",
      "tensor(nan, device='cuda:0', grad_fn=<MseLossBackward0>)\n",
      "epoch 99, loss nan\n"
     ]
    }
   ],
   "source": [
    "for epoch in range(epochs):\n",
    "    # Converting inputs and labels to Variable\n",
    "    if torch.cuda.is_available():\n",
    "        inputs = Variable(torch.from_numpy(x_train).cuda())\n",
    "        labels = Variable(torch.from_numpy(y_train).cuda())\n",
    "    else:\n",
    "        inputs = Variable(torch.from_numpy(x_train))\n",
    "        labels = Variable(torch.from_numpy(y_train))\n",
    "\n",
    "    # Clear gradient buffers because we don't want any gradient from previous epoch to carry forward, dont want to cummulate gradients\n",
    "    optimizer.zero_grad()\n",
    "\n",
    "    # get output from the model, given the inputs\n",
    "    outputs = model(inputs)\n",
    "\n",
    "    # get loss for the predicted output\n",
    "    loss = criterion(outputs, labels)\n",
    "    print(loss)\n",
    "    # get gradients w.r.t to parameters\n",
    "    loss.backward()\n",
    "\n",
    "    # update parameters\n",
    "    optimizer.step()\n",
    "\n",
    "    print('epoch {}, loss {}'.format(epoch, loss.item()))"
   ]
  },
  {
   "cell_type": "code",
   "execution_count": 73,
   "id": "671af6eb-53e5-4972-a38b-aacf20d5afad",
   "metadata": {
    "collapsed": true,
    "jupyter": {
     "outputs_hidden": true
    },
    "tags": []
   },
   "outputs": [
    {
     "name": "stdout",
     "output_type": "stream",
     "text": [
      "[[nan]\n",
      " [nan]\n",
      " [nan]\n",
      " [nan]\n",
      " [nan]\n",
      " [nan]\n",
      " [nan]\n",
      " [nan]\n",
      " [nan]\n",
      " [nan]]\n"
     ]
    },
    {
     "data": {
      "image/png": "[encoded data removed]",
      "text/plain": [
       "<Figure size 640x480 with 1 Axes>"
      ]
     },
     "metadata": {},
     "output_type": "display_data"
    }
   ],
   "source": [
    "from matplotlib import pyplot as plt\n",
    "\n",
    "with torch.no_grad(): # we don't need gradients in the testing phase\n",
    "    if torch.cuda.is_available():\n",
    "        predicted = model(Variable(torch.from_numpy(x_train).cuda())).cpu().data.numpy()\n",
    "    else:\n",
    "        predicted = model(Variable(torch.from_numpy(x_train))).data.numpy()\n",
    "    print(predicted)\n",
    "\n",
    "plt.clf()\n",
    "plt.plot(x_train, y_train, 'go', label='True data', alpha=0.5)\n",
    "plt.plot(x_train, predicted, '--', label='Predictions', alpha=0.5)\n",
    "plt.legend(loc='best')\n",
    "plt.show()"
   ]
  },
  {
   "cell_type": "code",
   "execution_count": null,
   "id": "ad1aafb6-e7b6-4af4-bd0a-e1a372b8c384",
   "metadata": {
    "tags": []
   },
   "outputs": [],
   "source": [
    "plt.savefig('workdir/plot1.png')"
   ]
  },
  {
   "cell_type": "code",
   "execution_count": null,
   "id": "e5f29c45-102d-4632-aca6-dc264862377b",
   "metadata": {
    "tags": []
   },
   "outputs": [],
   "source": [
    "from IPython.display import Image, display\n",
    "\n",
    "display(Image('workdir/plot1.png'))"
   ]
  },
  {
   "cell_type": "code",
   "execution_count": null,
   "id": "3ecdf6b3-936b-4d78-8917-727e7b3823ff",
   "metadata": {},
   "outputs": [],
   "source": [
    "%download plot1.png"
   ]
  },
  {
   "cell_type": "code",
   "execution_count": 74,
   "id": "d71bfb83-8ed1-4776-884c-bc7fed913d79",
   "metadata": {
    "tags": []
   },
   "outputs": [
    {
     "name": "stdout",
     "output_type": "stream",
     "text": [
      "Disconnecting... done.\n",
      "Total cost: 0.008526519623534722\n",
      "Allocated 0.982552694920630555 tglm on rinkeby"
     ]
    }
   ],
   "source": [
    "%disconnect"
   ]
  }
 ],
 "metadata": {
  "kernelspec": {
   "display_name": "Golem",
   "language": "python",
   "name": "golem"
  },
  "language_info": {
   "file_extension": ".py",
   "mimetype": "text/x-python",
   "name": "python"
  }
 },
 "nbformat": 4,
 "nbformat_minor": 5
}
