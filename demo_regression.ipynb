{
 "cells": [
  {
   "cell_type": "code",
   "execution_count": null,
   "id": "52122f36-0735-4f22-a513-ac928edf803b",
   "metadata": {
    "tags": []
   },
   "outputs": [],
   "source": [
    "%help"
   ]
  },
  {
   "cell_type": "code",
   "execution_count": null,
   "id": "440d253a-6b8d-44f5-b3ec-73b6a4de88c6",
   "metadata": {
    "tags": []
   },
   "outputs": [],
   "source": [
    "%status"
   ]
  },
  {
   "cell_type": "code",
   "execution_count": null,
   "id": "840527bf-2da6-4c8e-87ef-7853ba13875d",
   "metadata": {
    "tags": []
   },
   "outputs": [],
   "source": [
    "%budget rinkeby 1"
   ]
  },
  {
   "cell_type": "code",
   "execution_count": null,
   "id": "4d3c1802-dbbc-4be9-9480-643d88b1f70d",
   "metadata": {
    "tags": []
   },
   "outputs": [],
   "source": [
    "%connect timeout=15m"
   ]
  },
  {
   "cell_type": "code",
   "execution_count": null,
   "id": "7f749b64-25b9-4f21-8f15-33a53b16313d",
   "metadata": {
    "tags": []
   },
   "outputs": [],
   "source": [
    "%pip install matplotlib pandas"
   ]
  },
  {
   "cell_type": "code",
   "execution_count": null,
   "id": "79538495-5fc3-4f7a-8957-e6647fbb9e69",
   "metadata": {
    "tags": []
   },
   "outputs": [],
   "source": [
    "%upload life_expectancy.csv"
   ]
  },
  {
   "cell_type": "code",
   "execution_count": null,
   "id": "eafecca6-4aa4-492b-82fe-673c2ded2c72",
   "metadata": {
    "tags": []
   },
   "outputs": [],
   "source": [
    "!ls -la workdir"
   ]
  },
  {
   "cell_type": "code",
   "execution_count": null,
   "id": "83c5951a-6cfe-4491-9a5c-bfc93d201737",
   "metadata": {
    "tags": []
   },
   "outputs": [],
   "source": [
    "!lspci -vnn | grep VGA"
   ]
  },
  {
   "cell_type": "code",
   "execution_count": null,
   "id": "629c9637-06de-4838-b1aa-40c0a40fc76d",
   "metadata": {
    "tags": []
   },
   "outputs": [],
   "source": [
    "import torch\n",
    "torch.cuda.get_device_name(0)"
   ]
  },
  {
   "cell_type": "code",
   "execution_count": null,
   "id": "1f1b4929-c46f-4e36-baa8-c3085dde5c74",
   "metadata": {
    "tags": []
   },
   "outputs": [],
   "source": [
    "import numpy as np\n",
    "import pandas as pd\n",
    "import random\n",
    "import torch\n",
    "from torch.autograd import Variable\n",
    "\n",
    "training_df = pd.read_csv(filepath_or_buffer=\"workdir/life_expectancy.csv\")\n",
    "\n",
    "#training_df['median_house_value'] /= 1000.0\n",
    "\n",
    "#TODO: take data from file (data.csv)\n",
    "\n",
    "# create dummy data for training\n",
    "# x_values = list(training_df[training_df.Country==\"Poland\"]['Year'])\n",
    "x_values = [i for i in range(11)]\n",
    "x_train = np.array(x_values, dtype=np.float32)\n",
    "x_train = x_train.reshape(-1, 1)\n",
    "\n",
    "# y_values = list(training_df[training_df.Country==\"Poland\"]['Life expectancy '])\n",
    "y_values = [2*i + 1 + random.randint(-4,4) for i in x_values]\n",
    "y_train = np.array(y_values, dtype=np.float32)\n",
    "y_train = y_train.reshape(-1, 1)\n",
    "\n",
    "\n",
    "class linearRegression(torch.nn.Module):\n",
    "    def __init__(self, inputSize, outputSize):\n",
    "        super(linearRegression, self).__init__()\n",
    "        self.linear = torch.nn.Linear(inputSize, outputSize)\n",
    "\n",
    "    def forward(self, x):\n",
    "        out = self.linear(x)\n",
    "        return out\n",
    "    \n",
    "inputDim = 1        # takes variable 'x' \n",
    "outputDim = 1       # takes variable 'y'\n",
    "learningRate = 0.01 \n",
    "epochs = 100\n",
    "\n",
    "model = linearRegression(inputDim, outputDim)\n",
    "##### For GPU #######\n",
    "if torch.cuda.is_available():\n",
    "    model.cuda()\n",
    "    \n",
    "criterion = torch.nn.MSELoss() \n",
    "optimizer = torch.optim.SGD(model.parameters(), lr=learningRate)"
   ]
  },
  {
   "cell_type": "code",
   "execution_count": null,
   "id": "b79b7144-567b-43f0-992e-288f40770d1f",
   "metadata": {
    "tags": []
   },
   "outputs": [],
   "source": [
    "for epoch in range(epochs):\n",
    "    # Converting inputs and labels to Variable\n",
    "    if torch.cuda.is_available():\n",
    "        inputs = Variable(torch.from_numpy(x_train).cuda())\n",
    "        labels = Variable(torch.from_numpy(y_train).cuda())\n",
    "    else:\n",
    "        inputs = Variable(torch.from_numpy(x_train))\n",
    "        labels = Variable(torch.from_numpy(y_train))\n",
    "\n",
    "    # Clear gradient buffers because we don't want any gradient from previous epoch to carry forward, dont want to cummulate gradients\n",
    "    optimizer.zero_grad()\n",
    "\n",
    "    # get output from the model, given the inputs\n",
    "    outputs = model(inputs)\n",
    "\n",
    "    # get loss for the predicted output\n",
    "    loss = criterion(outputs, labels)\n",
    "    print(loss)\n",
    "    # get gradients w.r.t to parameters\n",
    "    loss.backward()\n",
    "\n",
    "    # update parameters\n",
    "    optimizer.step()\n",
    "\n",
    "    # print('epoch {}, loss {}'.format(epoch, loss.item()))"
   ]
  },
  {
   "cell_type": "code",
   "execution_count": null,
   "id": "671af6eb-53e5-4972-a38b-aacf20d5afad",
   "metadata": {
    "tags": []
   },
   "outputs": [],
   "source": [
    "from matplotlib import pyplot as plt\n",
    "\n",
    "with torch.no_grad(): # we don't need gradients in the testing phase\n",
    "    if torch.cuda.is_available():\n",
    "        predicted = model(Variable(torch.from_numpy(x_train).cuda())).cpu().data.numpy()\n",
    "    else:\n",
    "        predicted = model(Variable(torch.from_numpy(x_train))).data.numpy()\n",
    "    # print(predicted)\n",
    "\n",
    "plt.clf()\n",
    "plt.plot(x_train, y_train, 'go', label='True data', alpha=0.5)\n",
    "plt.plot(x_train, predicted, '--', label='Predictions', alpha=0.5)\n",
    "plt.legend(loc='best')\n",
    "plt.savefig('workdir/plot1.png')\n",
    "plt.show()"
   ]
  },
  {
   "cell_type": "code",
   "execution_count": null,
   "id": "e5f29c45-102d-4632-aca6-dc264862377b",
   "metadata": {
    "tags": []
   },
   "outputs": [],
   "source": [
    "from IPython.display import Image, display\n",
    "\n",
    "display(Image('workdir/plot1.png'))"
   ]
  },
  {
   "cell_type": "code",
   "execution_count": null,
   "id": "3ecdf6b3-936b-4d78-8917-727e7b3823ff",
   "metadata": {
    "tags": []
   },
   "outputs": [],
   "source": [
    "%download plot1.png"
   ]
  },
  {
   "cell_type": "code",
   "execution_count": null,
   "id": "d71bfb83-8ed1-4776-884c-bc7fed913d79",
   "metadata": {
    "tags": []
   },
   "outputs": [],
   "source": [
    "#TODO: show connection time\n",
    "%disconnect"
   ]
  }
 ],
 "metadata": {
  "kernelspec": {
   "display_name": "Golem",
   "language": "python",
   "name": "golem"
  },
  "language_info": {
   "file_extension": ".py",
   "mimetype": "text/x-python",
   "name": "python"
  }
 },
 "nbformat": 4,
 "nbformat_minor": 5
}
