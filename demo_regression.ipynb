{
 "cells": [
  {
   "cell_type": "code",
   "execution_count": 1,
   "id": "52122f36-0735-4f22-a513-ac928edf803b",
   "metadata": {},
   "outputs": [
    {
     "name": "stdout",
     "output_type": "stream",
     "text": [
      "Welcome message.\n",
      "Lorem ipsum dolor sit amet.\n"
     ]
    }
   ],
   "source": [
    "%help"
   ]
  },
  {
   "cell_type": "code",
   "execution_count": 1,
   "id": "440d253a-6b8d-44f5-b3ec-73b6a4de88c6",
   "metadata": {
    "tags": []
   },
   "outputs": [
    {
     "name": "stdout",
     "output_type": "stream",
     "text": [
      "My node ID: 0x4a74cbb0b48261e72fb13c714408f965f56b6252\n",
      "My wallet address: 0x4a74cbb0b48261e72fb13c714408f965f56b6252\n",
      "On Polygon[mainnet]: 0.00 GLM 0.0000 MATIC\n",
      "On Rinkeby[testnet]: 999.84 tGLM 0.0215 tETH\n",
      "Connection status: Disconnected\n",
      "\n"
     ]
    }
   ],
   "source": [
    "%status"
   ]
  },
  {
   "cell_type": "code",
   "execution_count": 2,
   "id": "840527bf-2da6-4c8e-87ef-7853ba13875d",
   "metadata": {
    "tags": []
   },
   "outputs": [
    {
     "name": "stdout",
     "output_type": "stream",
     "text": [
      "Allocated 1 tglm on rinkeby"
     ]
    }
   ],
   "source": [
    "%budget rinkeby 1"
   ]
  },
  {
   "cell_type": "code",
   "execution_count": null,
   "id": "4d3c1802-dbbc-4be9-9480-643d88b1f70d",
   "metadata": {
    "tags": []
   },
   "outputs": [
    {
     "name": "stdout",
     "output_type": "stream",
     "text": [
      "Progress: 1/3\n",
      "    Demand created. Waiting for counter proposal.\n",
      "    Searching for just any machine...\n",
      "    Will try to connect for 15 minutes.\n",
      "Progress: 2/3\n",
      "    Agreement created.\n",
      "    Connected to imapp2035-3060-1 [0x85f08a865abc7adf5f56754cd390a951406439eb]\n",
      "    RAM: 6.589084774255753 GB\n",
      "    DISK: 200.6771881103516 GB\n",
      "    CPU: 4 cores\n",
      "    GPU: GA106 [GeForce RTX 3060 Lite Hash Rate]\n",
      "Progress: 3/3\n",
      "    Engine is starting...\n"
     ]
    }
   ],
   "source": [
    "%connect timeout=15m"
   ]
  },
  {
   "cell_type": "code",
   "execution_count": 4,
   "id": "7f749b64-25b9-4f21-8f15-33a53b16313d",
   "metadata": {
    "collapsed": true,
    "jupyter": {
     "outputs_hidden": true
    },
    "tags": []
   },
   "outputs": [
    {
     "name": "stdout",
     "output_type": "stream",
     "text": [
      "Collecting matplotlib\n",
      "  Downloading matplotlib-3.7.1-cp38-cp38-manylinux_2_12_x86_64.manylinux2010_x86_64.whl (9.2 MB)\n",
      "\u001b[?25l\n",
      "\u001b[?25hCollecting pandas\n",
      "  Downloading pandas-2.0.1-cp38-cp38-manylinux_2_17_x86_64.manylinux2014_x86_64.whl (12.3 MB)\n",
      "\u001b[?25l\n",
      "\u001b[?25hRequirement already satisfied: packaging>=20.0 in ./workdir/venv/lib/python3.8/site-packages (from matplotlib) (23.1)\n",
      "Collecting numpy>=1.20\n",
      "  Downloading numpy-1.24.3-cp38-cp38-manylinux_2_17_x86_64.manylinux2014_x86_64.whl (17.3 MB)\n",
      "\u001b[?25l\n",
      "\u001b[?25hCollecting cycler>=0.10\n",
      "  Downloading cycler-0.11.0-py3-none-any.whl (6.4 kB)\n",
      "Requirement already satisfied: importlib-resources>=3.2.0; python_version < \"3.10\" in ./workdir/venv/lib/python3.8/site-packages (from matplotlib) (5.12.0)\n",
      "Collecting fonttools>=4.22.0\n",
      "  Downloading fonttools-4.39.4-py3-none-any.whl (1.0 MB)\n",
      "\u001b[?25l\n",
      "\u001b[?25hCollecting contourpy>=1.0.1\n",
      "  Downloading contourpy-1.0.7-cp38-cp38-manylinux_2_17_x86_64.manylinux2014_x86_64.whl (300 kB)\n",
      "\u001b[?25l\n",
      "\u001b[?25hCollecting kiwisolver>=1.0.1\n",
      "  Downloading kiwisolver-1.4.4-cp38-cp38-manylinux_2_5_x86_64.manylinux1_x86_64.whl (1.2 MB)\n",
      "\u001b[?25l\n",
      "\u001b[?25hRequirement already satisfied: pyparsing>=2.3.1 in ./workdir/venv/lib/python3.8/site-packages (from matplotlib) (3.0.9)\n",
      "Collecting pillow>=6.2.0\n",
      "  Downloading Pillow-9.5.0-cp38-cp38-manylinux_2_17_x86_64.manylinux2014_x86_64.whl (3.3 MB)\n",
      "\u001b[?25l\n",
      "\u001b[?25hRequirement already satisfied: python-dateutil>=2.7 in ./workdir/venv/lib/python3.8/site-packages (from matplotlib) (2.8.2)\n",
      "Collecting pytz>=2020.1\n",
      "  Downloading pytz-2023.3-py2.py3-none-any.whl (502 kB)\n",
      "\u001b[?25l\n",
      "\u001b[?25hCollecting tzdata>=2022.1\n",
      "  Downloading tzdata-2023.3-py2.py3-none-any.whl (341 kB)\n",
      "\u001b[?25l\n",
      "\u001b[?25hRequirement already satisfied: zipp>=3.1.0; python_version < \"3.10\" in ./workdir/venv/lib/python3.8/site-packages (from importlib-resources>=3.2.0; python_version < \"3.10\"->matplotlib) (3.15.0)\n",
      "Requirement already satisfied: six>=1.5 in ./workdir/venv/lib/python3.8/site-packages (from python-dateutil>=2.7->matplotlib) (1.16.0)\n",
      "Installing collected packages: numpy, cycler, fonttools, contourpy, kiwisolver, pillow, matplotlib, pytz, tzdata, pandas\n",
      "Successfully installed contourpy-1.0.7 cycler-0.11.0 fonttools-4.39.4 kiwisolver-1.4.4 matplotlib-3.7.1 numpy-1.24.3 pandas-2.0.1 pillow-9.5.0 pytz-2023.3 tzdata-2023.3\n",
      "Note: you may need to restart the kernel to use updated packages.\n"
     ]
    }
   ],
   "source": [
    "%pip install matplotlib pandas"
   ]
  },
  {
   "cell_type": "code",
   "execution_count": 5,
   "id": "79538495-5fc3-4f7a-8957-e6647fbb9e69",
   "metadata": {
    "collapsed": true,
    "jupyter": {
     "outputs_hidden": true
    },
    "tags": []
   },
   "outputs": [
    {
     "name": "stdout",
     "output_type": "stream",
     "text": [
      "Sending...\n",
      "File uploaded.\n"
     ]
    }
   ],
   "source": [
    "%upload life_expectancy.csv"
   ]
  },
  {
   "cell_type": "code",
   "execution_count": 10,
   "id": "83c5951a-6cfe-4491-9a5c-bfc93d201737",
   "metadata": {
    "collapsed": true,
    "jupyter": {
     "outputs_hidden": true
    },
    "tags": []
   },
   "outputs": [
    {
     "name": "stdout",
     "output_type": "stream",
     "text": [
      "00:02.0 VGA compatible controller [0300]: Device [1234:1111] (rev 02) (prog-if 00 [VGA controller])\n",
      "00:05.0 VGA compatible controller [0300]: NVIDIA Corporation Device [10de:2504] (rev a1) (prog-if 00 [VGA controller])\n"
     ]
    }
   ],
   "source": [
    "!lspci -vnn | grep VGA"
   ]
  },
  {
   "cell_type": "code",
   "execution_count": 12,
   "id": "65a1355b-7b60-44c2-a88f-de6c99e829ca",
   "metadata": {
    "collapsed": true,
    "jupyter": {
     "outputs_hidden": true,
     "source_hidden": true
    },
    "tags": []
   },
   "outputs": [
    {
     "name": "stdout",
     "output_type": "stream",
     "text": [
      "Wed May 10 18:12:06 2023       \n",
      "+-----------------------------------------------------------------------------+\n",
      "| NVIDIA-SMI 510.60.02    Driver Version: 510.60.02    CUDA Version: 11.6     |\n",
      "|-------------------------------+----------------------+----------------------+\n",
      "| GPU  Name        Persistence-M| Bus-Id        Disp.A | Volatile Uncorr. ECC |\n",
      "| Fan  Temp  Perf  Pwr:Usage/Cap|         Memory-Usage | GPU-Util  Compute M. |\n",
      "|                               |                      |               MIG M. |\n",
      "|===============================+======================+======================|\n",
      "|   0  NVIDIA GeForce ...  Off  | 00000000:00:05.0 Off |                  N/A |\n",
      "|  0%   58C    P0    33W / 170W |      0MiB / 12288MiB |      0%      Default |\n",
      "|                               |                      |                  N/A |\n",
      "+-------------------------------+----------------------+----------------------+\n",
      "                                                                               \n",
      "+-----------------------------------------------------------------------------+\n",
      "| Processes:                                                                  |\n",
      "|  GPU   GI   CI        PID   Type   Process name                  GPU Memory |\n",
      "|        ID   ID                                                   Usage      |\n",
      "|=============================================================================|\n",
      "|  No running processes found                                                 |\n",
      "+-----------------------------------------------------------------------------+\n"
     ]
    }
   ],
   "source": [
    "!nvidia-smi"
   ]
  },
  {
   "cell_type": "code",
   "execution_count": 17,
   "id": "629c9637-06de-4838-b1aa-40c0a40fc76d",
   "metadata": {
    "collapsed": true,
    "jupyter": {
     "outputs_hidden": true
    },
    "tags": []
   },
   "outputs": [
    {
     "data": {
      "text/plain": [
       "'NVIDIA GeForce RTX 3060'"
      ]
     },
     "execution_count": 17,
     "metadata": {},
     "output_type": "execute_result"
    }
   ],
   "source": [
    "import torch\n",
    "torch.cuda.get_device_name(0)"
   ]
  },
  {
   "cell_type": "code",
   "execution_count": 6,
   "id": "1f1b4929-c46f-4e36-baa8-c3085dde5c74",
   "metadata": {
    "tags": []
   },
   "outputs": [],
   "source": [
    "import numpy as np\n",
    "import pandas as pd\n",
    "import random\n",
    "import torch\n",
    "from torch.autograd import Variable\n",
    "\n",
    "training_df = pd.read_csv(filepath_or_buffer=\"workdir/life_expectancy.csv\")\n",
    "\n",
    "#training_df['median_house_value'] /= 1000.0\n",
    "\n",
    "# create dummy data for training\n",
    "# x_values = list(training_df[training_df.Country==\"Poland\"]['Year'])\n",
    "x_values = [i for i in range(11)]\n",
    "x_train = np.array(x_values, dtype=np.float32)\n",
    "x_train = x_train.reshape(-1, 1)\n",
    "\n",
    "# y_values = list(training_df[training_df.Country==\"Poland\"]['Life expectancy '])\n",
    "y_values = [2*i + 1 + random.randint(-4,4) for i in x_values]\n",
    "y_train = np.array(y_values, dtype=np.float32)\n",
    "y_train = y_train.reshape(-1, 1)\n",
    "\n",
    "\n",
    "class linearRegression(torch.nn.Module):\n",
    "    def __init__(self, inputSize, outputSize):\n",
    "        super(linearRegression, self).__init__()\n",
    "        self.linear = torch.nn.Linear(inputSize, outputSize)\n",
    "\n",
    "    def forward(self, x):\n",
    "        out = self.linear(x)\n",
    "        return out\n",
    "    \n",
    "inputDim = 1        # takes variable 'x' \n",
    "outputDim = 1       # takes variable 'y'\n",
    "learningRate = 0.01 \n",
    "epochs = 100\n",
    "\n",
    "model = linearRegression(inputDim, outputDim)\n",
    "##### For GPU #######\n",
    "if torch.cuda.is_available():\n",
    "    model.cuda()\n",
    "    \n",
    "criterion = torch.nn.MSELoss() \n",
    "optimizer = torch.optim.SGD(model.parameters(), lr=learningRate)"
   ]
  },
  {
   "cell_type": "code",
   "execution_count": 7,
   "id": "b79b7144-567b-43f0-992e-288f40770d1f",
   "metadata": {
    "collapsed": true,
    "jupyter": {
     "outputs_hidden": true
    },
    "tags": []
   },
   "outputs": [
    {
     "name": "stdout",
     "output_type": "stream",
     "text": [
      "tensor(111.2300, device='cuda:0', grad_fn=<MseLossBackward0>)\n",
      "epoch 0, loss 111.2300033569336\n",
      "tensor(14.8009, device='cuda:0', grad_fn=<MseLossBackward0>)\n",
      "epoch 1, loss 14.800948143005371\n",
      "tensor(6.9183, device='cuda:0', grad_fn=<MseLossBackward0>)\n",
      "epoch 2, loss 6.9183478355407715\n",
      "tensor(6.2584, device='cuda:0', grad_fn=<MseLossBackward0>)\n",
      "epoch 3, loss 6.258393287658691\n",
      "tensor(6.1878, device='cuda:0', grad_fn=<MseLossBackward0>)\n",
      "epoch 4, loss 6.187756061553955\n",
      "tensor(6.1654, device='cuda:0', grad_fn=<MseLossBackward0>)\n",
      "epoch 5, loss 6.165377140045166\n",
      "tensor(6.1471, device='cuda:0', grad_fn=<MseLossBackward0>)\n",
      "epoch 6, loss 6.14711856842041\n",
      "tensor(6.1294, device='cuda:0', grad_fn=<MseLossBackward0>)\n",
      "epoch 7, loss 6.129382133483887\n",
      "tensor(6.1119, device='cuda:0', grad_fn=<MseLossBackward0>)\n",
      "epoch 8, loss 6.111867904663086\n",
      "tensor(6.0946, device='cuda:0', grad_fn=<MseLossBackward0>)\n",
      "epoch 9, loss 6.094551086425781\n",
      "tensor(6.0774, device='cuda:0', grad_fn=<MseLossBackward0>)\n",
      "epoch 10, loss 6.077427387237549\n",
      "tensor(6.0605, device='cuda:0', grad_fn=<MseLossBackward0>)\n",
      "epoch 11, loss 6.060494422912598\n",
      "tensor(6.0438, device='cuda:0', grad_fn=<MseLossBackward0>)\n",
      "epoch 12, loss 6.043752193450928\n",
      "tensor(6.0272, device='cuda:0', grad_fn=<MseLossBackward0>)\n",
      "epoch 13, loss 6.027196407318115\n",
      "tensor(6.0108, device='cuda:0', grad_fn=<MseLossBackward0>)\n",
      "epoch 14, loss 6.010824680328369\n",
      "tensor(5.9946, device='cuda:0', grad_fn=<MseLossBackward0>)\n",
      "epoch 15, loss 5.994637489318848\n",
      "tensor(5.9786, device='cuda:0', grad_fn=<MseLossBackward0>)\n",
      "epoch 16, loss 5.978628635406494\n",
      "tensor(5.9628, device='cuda:0', grad_fn=<MseLossBackward0>)\n",
      "epoch 17, loss 5.9628005027771\n",
      "tensor(5.9471, device='cuda:0', grad_fn=<MseLossBackward0>)\n",
      "epoch 18, loss 5.947149276733398\n",
      "tensor(5.9317, device='cuda:0', grad_fn=<MseLossBackward0>)\n",
      "epoch 19, loss 5.931672096252441\n",
      "tensor(5.9164, device='cuda:0', grad_fn=<MseLossBackward0>)\n",
      "epoch 20, loss 5.916367530822754\n",
      "tensor(5.9012, device='cuda:0', grad_fn=<MseLossBackward0>)\n",
      "epoch 21, loss 5.901234149932861\n",
      "tensor(5.8863, device='cuda:0', grad_fn=<MseLossBackward0>)\n",
      "epoch 22, loss 5.886269569396973\n",
      "tensor(5.8715, device='cuda:0', grad_fn=<MseLossBackward0>)\n",
      "epoch 23, loss 5.871471881866455\n",
      "tensor(5.8568, device='cuda:0', grad_fn=<MseLossBackward0>)\n",
      "epoch 24, loss 5.856839656829834\n",
      "tensor(5.8424, device='cuda:0', grad_fn=<MseLossBackward0>)\n",
      "epoch 25, loss 5.842371463775635\n",
      "tensor(5.8281, device='cuda:0', grad_fn=<MseLossBackward0>)\n",
      "epoch 26, loss 5.82806396484375\n",
      "tensor(5.8139, device='cuda:0', grad_fn=<MseLossBackward0>)\n",
      "epoch 27, loss 5.8139166831970215\n",
      "tensor(5.7999, device='cuda:0', grad_fn=<MseLossBackward0>)\n",
      "epoch 28, loss 5.799928188323975\n",
      "tensor(5.7861, device='cuda:0', grad_fn=<MseLossBackward0>)\n",
      "epoch 29, loss 5.7860941886901855\n",
      "tensor(5.7724, device='cuda:0', grad_fn=<MseLossBackward0>)\n",
      "epoch 30, loss 5.772416114807129\n",
      "tensor(5.7589, device='cuda:0', grad_fn=<MseLossBackward0>)\n",
      "epoch 31, loss 5.758889675140381\n",
      "tensor(5.7455, device='cuda:0', grad_fn=<MseLossBackward0>)\n",
      "epoch 32, loss 5.745514869689941\n",
      "tensor(5.7323, device='cuda:0', grad_fn=<MseLossBackward0>)\n",
      "epoch 33, loss 5.732289791107178\n",
      "tensor(5.7192, device='cuda:0', grad_fn=<MseLossBackward0>)\n",
      "epoch 34, loss 5.719211101531982\n",
      "tensor(5.7063, device='cuda:0', grad_fn=<MseLossBackward0>)\n",
      "epoch 35, loss 5.706279754638672\n",
      "tensor(5.6935, device='cuda:0', grad_fn=<MseLossBackward0>)\n",
      "epoch 36, loss 5.693492412567139\n",
      "tensor(5.6808, device='cuda:0', grad_fn=<MseLossBackward0>)\n",
      "epoch 37, loss 5.680848121643066\n",
      "tensor(5.6683, device='cuda:0', grad_fn=<MseLossBackward0>)\n",
      "epoch 38, loss 5.668345928192139\n",
      "tensor(5.6560, device='cuda:0', grad_fn=<MseLossBackward0>)\n",
      "epoch 39, loss 5.655981063842773\n",
      "tensor(5.6438, device='cuda:0', grad_fn=<MseLossBackward0>)\n",
      "epoch 40, loss 5.643754005432129\n",
      "tensor(5.6317, device='cuda:0', grad_fn=<MseLossBackward0>)\n",
      "epoch 41, loss 5.6316657066345215\n",
      "tensor(5.6197, device='cuda:0', grad_fn=<MseLossBackward0>)\n",
      "epoch 42, loss 5.619711875915527\n",
      "tensor(5.6079, device='cuda:0', grad_fn=<MseLossBackward0>)\n",
      "epoch 43, loss 5.607891082763672\n",
      "tensor(5.5962, device='cuda:0', grad_fn=<MseLossBackward0>)\n",
      "epoch 44, loss 5.596201419830322\n",
      "tensor(5.5846, device='cuda:0', grad_fn=<MseLossBackward0>)\n",
      "epoch 45, loss 5.584644317626953\n",
      "tensor(5.5732, device='cuda:0', grad_fn=<MseLossBackward0>)\n",
      "epoch 46, loss 5.573214054107666\n",
      "tensor(5.5619, device='cuda:0', grad_fn=<MseLossBackward0>)\n",
      "epoch 47, loss 5.561913013458252\n",
      "tensor(5.5507, device='cuda:0', grad_fn=<MseLossBackward0>)\n",
      "epoch 48, loss 5.550737380981445\n",
      "tensor(5.5397, device='cuda:0', grad_fn=<MseLossBackward0>)\n",
      "epoch 49, loss 5.539688587188721\n",
      "tensor(5.5288, device='cuda:0', grad_fn=<MseLossBackward0>)\n",
      "epoch 50, loss 5.528759956359863\n",
      "tensor(5.5180, device='cuda:0', grad_fn=<MseLossBackward0>)\n",
      "epoch 51, loss 5.517955303192139\n",
      "tensor(5.5073, device='cuda:0', grad_fn=<MseLossBackward0>)\n",
      "epoch 52, loss 5.507270336151123\n",
      "tensor(5.4967, device='cuda:0', grad_fn=<MseLossBackward0>)\n",
      "epoch 53, loss 5.496705532073975\n",
      "tensor(5.4863, device='cuda:0', grad_fn=<MseLossBackward0>)\n",
      "epoch 54, loss 5.486258029937744\n",
      "tensor(5.4759, device='cuda:0', grad_fn=<MseLossBackward0>)\n",
      "epoch 55, loss 5.475927352905273\n",
      "tensor(5.4657, device='cuda:0', grad_fn=<MseLossBackward0>)\n",
      "epoch 56, loss 5.465712547302246\n",
      "tensor(5.4556, device='cuda:0', grad_fn=<MseLossBackward0>)\n",
      "epoch 57, loss 5.4556121826171875\n",
      "tensor(5.4456, device='cuda:0', grad_fn=<MseLossBackward0>)\n",
      "epoch 58, loss 5.445623874664307\n",
      "tensor(5.4357, device='cuda:0', grad_fn=<MseLossBackward0>)\n",
      "epoch 59, loss 5.435746192932129\n",
      "tensor(5.4260, device='cuda:0', grad_fn=<MseLossBackward0>)\n",
      "epoch 60, loss 5.425981044769287\n",
      "tensor(5.4163, device='cuda:0', grad_fn=<MseLossBackward0>)\n",
      "epoch 61, loss 5.416323661804199\n",
      "tensor(5.4068, device='cuda:0', grad_fn=<MseLossBackward0>)\n",
      "epoch 62, loss 5.406773567199707\n",
      "tensor(5.3973, device='cuda:0', grad_fn=<MseLossBackward0>)\n",
      "epoch 63, loss 5.397331237792969\n",
      "tensor(5.3880, device='cuda:0', grad_fn=<MseLossBackward0>)\n",
      "epoch 64, loss 5.387992858886719\n",
      "tensor(5.3788, device='cuda:0', grad_fn=<MseLossBackward0>)\n",
      "epoch 65, loss 5.378760814666748\n",
      "tensor(5.3696, device='cuda:0', grad_fn=<MseLossBackward0>)\n",
      "epoch 66, loss 5.369630336761475\n",
      "tensor(5.3606, device='cuda:0', grad_fn=<MseLossBackward0>)\n",
      "epoch 67, loss 5.360602855682373\n",
      "tensor(5.3517, device='cuda:0', grad_fn=<MseLossBackward0>)\n",
      "epoch 68, loss 5.351675510406494\n",
      "tensor(5.3428, device='cuda:0', grad_fn=<MseLossBackward0>)\n",
      "epoch 69, loss 5.3428473472595215\n",
      "tensor(5.3341, device='cuda:0', grad_fn=<MseLossBackward0>)\n",
      "epoch 70, loss 5.334118366241455\n",
      "tensor(5.3255, device='cuda:0', grad_fn=<MseLossBackward0>)\n",
      "epoch 71, loss 5.325486660003662\n",
      "tensor(5.3170, device='cuda:0', grad_fn=<MseLossBackward0>)\n",
      "epoch 72, loss 5.316951274871826\n",
      "tensor(5.3085, device='cuda:0', grad_fn=<MseLossBackward0>)\n",
      "epoch 73, loss 5.308511257171631\n",
      "tensor(5.3002, device='cuda:0', grad_fn=<MseLossBackward0>)\n",
      "epoch 74, loss 5.30016565322876\n",
      "tensor(5.2919, device='cuda:0', grad_fn=<MseLossBackward0>)\n",
      "epoch 75, loss 5.2919135093688965\n",
      "tensor(5.2838, device='cuda:0', grad_fn=<MseLossBackward0>)\n",
      "epoch 76, loss 5.283753871917725\n",
      "tensor(5.2757, device='cuda:0', grad_fn=<MseLossBackward0>)\n",
      "epoch 77, loss 5.275684356689453\n",
      "tensor(5.2677, device='cuda:0', grad_fn=<MseLossBackward0>)\n",
      "epoch 78, loss 5.267705917358398\n",
      "tensor(5.2598, device='cuda:0', grad_fn=<MseLossBackward0>)\n",
      "epoch 79, loss 5.259815692901611\n",
      "tensor(5.2520, device='cuda:0', grad_fn=<MseLossBackward0>)\n",
      "epoch 80, loss 5.252013683319092\n",
      "tensor(5.2443, device='cuda:0', grad_fn=<MseLossBackward0>)\n",
      "epoch 81, loss 5.244298934936523\n",
      "tensor(5.2367, device='cuda:0', grad_fn=<MseLossBackward0>)\n",
      "epoch 82, loss 5.236670017242432\n",
      "tensor(5.2291, device='cuda:0', grad_fn=<MseLossBackward0>)\n",
      "epoch 83, loss 5.229127407073975\n",
      "tensor(5.2217, device='cuda:0', grad_fn=<MseLossBackward0>)\n",
      "epoch 84, loss 5.221668720245361\n",
      "tensor(5.2143, device='cuda:0', grad_fn=<MseLossBackward0>)\n",
      "epoch 85, loss 5.214292526245117\n",
      "tensor(5.2070, device='cuda:0', grad_fn=<MseLossBackward0>)\n",
      "epoch 86, loss 5.2069993019104\n",
      "tensor(5.1998, device='cuda:0', grad_fn=<MseLossBackward0>)\n",
      "epoch 87, loss 5.199786186218262\n",
      "tensor(5.1927, device='cuda:0', grad_fn=<MseLossBackward0>)\n",
      "epoch 88, loss 5.192655563354492\n",
      "tensor(5.1856, device='cuda:0', grad_fn=<MseLossBackward0>)\n",
      "epoch 89, loss 5.185604095458984\n",
      "tensor(5.1786, device='cuda:0', grad_fn=<MseLossBackward0>)\n",
      "epoch 90, loss 5.178630352020264\n",
      "tensor(5.1717, device='cuda:0', grad_fn=<MseLossBackward0>)\n",
      "epoch 91, loss 5.171734809875488\n",
      "tensor(5.1649, device='cuda:0', grad_fn=<MseLossBackward0>)\n",
      "epoch 92, loss 5.164917469024658\n",
      "tensor(5.1582, device='cuda:0', grad_fn=<MseLossBackward0>)\n",
      "epoch 93, loss 5.15817403793335\n",
      "tensor(5.1515, device='cuda:0', grad_fn=<MseLossBackward0>)\n",
      "epoch 94, loss 5.151507377624512\n",
      "tensor(5.1449, device='cuda:0', grad_fn=<MseLossBackward0>)\n",
      "epoch 95, loss 5.14491605758667\n",
      "tensor(5.1384, device='cuda:0', grad_fn=<MseLossBackward0>)\n",
      "epoch 96, loss 5.138396739959717\n",
      "tensor(5.1319, device='cuda:0', grad_fn=<MseLossBackward0>)\n",
      "epoch 97, loss 5.1319499015808105\n",
      "tensor(5.1256, device='cuda:0', grad_fn=<MseLossBackward0>)\n",
      "epoch 98, loss 5.125576972961426\n",
      "tensor(5.1193, device='cuda:0', grad_fn=<MseLossBackward0>)\n",
      "epoch 99, loss 5.119274616241455\n"
     ]
    }
   ],
   "source": [
    "for epoch in range(epochs):\n",
    "    # Converting inputs and labels to Variable\n",
    "    if torch.cuda.is_available():\n",
    "        inputs = Variable(torch.from_numpy(x_train).cuda())\n",
    "        labels = Variable(torch.from_numpy(y_train).cuda())\n",
    "    else:\n",
    "        inputs = Variable(torch.from_numpy(x_train))\n",
    "        labels = Variable(torch.from_numpy(y_train))\n",
    "\n",
    "    # Clear gradient buffers because we don't want any gradient from previous epoch to carry forward, dont want to cummulate gradients\n",
    "    optimizer.zero_grad()\n",
    "\n",
    "    # get output from the model, given the inputs\n",
    "    outputs = model(inputs)\n",
    "\n",
    "    # get loss for the predicted output\n",
    "    loss = criterion(outputs, labels)\n",
    "    print(loss)\n",
    "    # get gradients w.r.t to parameters\n",
    "    loss.backward()\n",
    "\n",
    "    # update parameters\n",
    "    optimizer.step()\n",
    "\n",
    "    print('epoch {}, loss {}'.format(epoch, loss.item()))"
   ]
  },
  {
   "cell_type": "code",
   "execution_count": 14,
   "id": "671af6eb-53e5-4972-a38b-aacf20d5afad",
   "metadata": {
    "tags": []
   },
   "outputs": [
    {
     "name": "stdout",
     "output_type": "stream",
     "text": [
      "[[ 1.2921122]\n",
      " [ 3.574061 ]\n",
      " [ 5.8560095]\n",
      " [ 8.137958 ]\n",
      " [10.419907 ]\n",
      " [12.701855 ]\n",
      " [14.983804 ]\n",
      " [17.265753 ]\n",
      " [19.5477   ]\n",
      " [21.829649 ]\n",
      " [24.111597 ]]\n"
     ]
    },
    {
     "data": {
      "image/png": "[encoded data removed]",
      "text/plain": [
       "<Figure size 640x480 with 1 Axes>"
      ]
     },
     "metadata": {},
     "output_type": "display_data"
    }
   ],
   "source": [
    "from matplotlib import pyplot as plt\n",
    "\n",
    "with torch.no_grad(): # we don't need gradients in the testing phase\n",
    "    if torch.cuda.is_available():\n",
    "        predicted = model(Variable(torch.from_numpy(x_train).cuda())).cpu().data.numpy()\n",
    "    else:\n",
    "        predicted = model(Variable(torch.from_numpy(x_train))).data.numpy()\n",
    "    print(predicted)\n",
    "\n",
    "plt.clf()\n",
    "plt.plot(x_train, y_train, 'go', label='True data', alpha=0.5)\n",
    "plt.plot(x_train, predicted, '--', label='Predictions', alpha=0.5)\n",
    "plt.legend(loc='best')\n",
    "plt.savefig('workdir/plot1.png')\n",
    "plt.show()"
   ]
  },
  {
   "cell_type": "code",
   "execution_count": 15,
   "id": "e5f29c45-102d-4632-aca6-dc264862377b",
   "metadata": {
    "tags": []
   },
   "outputs": [
    {
     "data": {
      "image/png": "[encoded data removed]",
      "text/plain": [
       "<IPython.core.display.Image object>"
      ]
     },
     "metadata": {},
     "output_type": "display_data"
    }
   ],
   "source": [
    "from IPython.display import Image, display\n",
    "\n",
    "display(Image('workdir/plot1.png'))"
   ]
  },
  {
   "cell_type": "code",
   "execution_count": 16,
   "id": "3ecdf6b3-936b-4d78-8917-727e7b3823ff",
   "metadata": {},
   "outputs": [
    {
     "name": "stdout",
     "output_type": "stream",
     "text": [
      "Downloading...\n",
      "File downloaded.\n"
     ]
    }
   ],
   "source": [
    "%download plot1.png"
   ]
  },
  {
   "cell_type": "code",
   "execution_count": 1,
   "id": "d71bfb83-8ed1-4776-884c-bc7fed913d79",
   "metadata": {
    "tags": []
   },
   "outputs": [
    {
     "name": "stdout",
     "output_type": "stream",
     "text": [
      "No connected provider"
     ]
    }
   ],
   "source": [
    "%disconnect"
   ]
  }
 ],
 "metadata": {
  "kernelspec": {
   "display_name": "Golem",
   "language": "python",
   "name": "golem"
  },
  "language_info": {
   "file_extension": ".py",
   "mimetype": "text/x-python",
   "name": "python"
  }
 },
 "nbformat": 4,
 "nbformat_minor": 5
}
