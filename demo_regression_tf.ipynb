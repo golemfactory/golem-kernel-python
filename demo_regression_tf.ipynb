{
 "cells": [
  {
   "cell_type": "code",
   "execution_count": null,
   "id": "7a28c5b3-7d0c-476f-aaac-512273ebeaed",
   "metadata": {
    "tags": []
   },
   "outputs": [],
   "source": [
    "%status"
   ]
  },
  {
   "cell_type": "code",
   "execution_count": null,
   "id": "90c57709-6b4f-4b89-a14e-829222e7727c",
   "metadata": {
    "tags": []
   },
   "outputs": [],
   "source": [
    "%fund rinkeby"
   ]
  },
  {
   "cell_type": "code",
   "execution_count": null,
   "id": "8977df4e-b60c-45ee-ab94-761e10d90dfb",
   "metadata": {
    "tags": []
   },
   "outputs": [],
   "source": [
    "%budget polygon 1"
   ]
  },
  {
   "cell_type": "code",
   "execution_count": null,
   "id": "0ec636a1-7e5b-4e7c-990e-f8f44e86b578",
   "metadata": {
    "tags": []
   },
   "outputs": [
    {
     "name": "stdout",
     "output_type": "stream",
     "text": [
      "Progress: 1/3\n",
      "    Demand created. Waiting for counter proposal.\n",
      "    Searching for just any machine...\n",
      "    Will try to connect for 10 minutes.\n"
     ]
    },
    {
     "data": {
      "text/html": [
       "<svg class=\"connect-1-174\" width=\"24\" height=\"24\" viewBox=\"0 0 24 24\" xmlns=\"http://www.w3.org/2000/svg\"><style>.spinner_9y7u{animation:spinner_fUkk 2.4s linear infinite;animation-delay:-2.4s}.spinner_DF2s{animation-delay:-1.6s}.spinner_q27e{animation-delay:-.8s}@keyframes spinner_fUkk{8.33%{x:13px;y:1px}25%{x:13px;y:1px}33.3%{x:13px;y:13px}50%{x:13px;y:13px}58.33%{x:1px;y:13px}75%{x:1px;y:13px}83.33%{x:1px;y:1px}}</style><rect class=\"spinner_9y7u\" x=\"1\" y=\"1\" rx=\"1\" width=\"10\" height=\"10\"/><rect class=\"spinner_9y7u spinner_DF2s\" x=\"1\" y=\"1\" rx=\"1\" width=\"10\" height=\"10\"/><rect class=\"spinner_9y7u spinner_q27e\" x=\"1\" y=\"1\" rx=\"1\" width=\"10\" height=\"10\"/></svg>"
      ],
      "text/plain": [
       "<IPython.core.display.HTML object>"
      ]
     },
     "metadata": {},
     "output_type": "display_data"
    },
    {
     "name": "stdout",
     "output_type": "stream",
     "text": [
      "Progress: 2/3\n",
      "    Agreement created.\n",
      "    Connected to KDGNode [0xc4bc7aa95302f14bc61424959961aad82034962d]\n",
      "    RAM: 2.5960467755794525 GB\n",
      "    DISK: 34.16630554199219 GB\n",
      "    CPU: 8 cores\n",
      "Progress: 3/3\n",
      "    Engine is starting. It might take few minutes...\n"
     ]
    },
    {
     "data": {
      "text/html": [
       "<style>.connect-1-174{display: none !important}</style>"
      ],
      "text/plain": [
       "<IPython.core.display.HTML object>"
      ]
     },
     "metadata": {},
     "output_type": "display_data"
    },
    {
     "data": {
      "text/html": [
       "<svg class=\"connect-2-471\" width=\"24\" height=\"24\" viewBox=\"0 0 24 24\" xmlns=\"http://www.w3.org/2000/svg\"><style>.spinner_9y7u{animation:spinner_fUkk 2.4s linear infinite;animation-delay:-2.4s}.spinner_DF2s{animation-delay:-1.6s}.spinner_q27e{animation-delay:-.8s}@keyframes spinner_fUkk{8.33%{x:13px;y:1px}25%{x:13px;y:1px}33.3%{x:13px;y:13px}50%{x:13px;y:13px}58.33%{x:1px;y:13px}75%{x:1px;y:13px}83.33%{x:1px;y:1px}}</style><rect class=\"spinner_9y7u\" x=\"1\" y=\"1\" rx=\"1\" width=\"10\" height=\"10\"/><rect class=\"spinner_9y7u spinner_DF2s\" x=\"1\" y=\"1\" rx=\"1\" width=\"10\" height=\"10\"/><rect class=\"spinner_9y7u spinner_q27e\" x=\"1\" y=\"1\" rx=\"1\" width=\"10\" height=\"10\"/></svg>"
      ],
      "text/plain": [
       "<IPython.core.display.HTML object>"
      ]
     },
     "metadata": {},
     "output_type": "display_data"
    }
   ],
   "source": [
    "%connect timeout=10m"
   ]
  },
  {
   "cell_type": "code",
   "execution_count": 18,
   "id": "23d5ee72-354d-47bc-9b6a-4b4e0658bfb8",
   "metadata": {
    "tags": []
   },
   "outputs": [
    {
     "name": "stdout",
     "output_type": "stream",
     "text": [
      "Sending...\n",
      "File uploaded.\n"
     ]
    }
   ],
   "source": [
    "%upload california_housing_train.csv"
   ]
  },
  {
   "cell_type": "code",
   "execution_count": 19,
   "id": "bbc97602-015f-4100-aa4c-8c69e867b795",
   "metadata": {
    "tags": []
   },
   "outputs": [
    {
     "name": "stdout",
     "output_type": "stream",
     "text": [
      "2023-06-21 19:02:57.370039: I tensorflow/core/platform/cpu_feature_guard.cc:182] This TensorFlow binary is optimized to use available CPU instructions in performance-critical operations.\n",
      "To enable the following instructions: AVX2 FMA, in other operations, rebuild TensorFlow with the appropriate compiler flags.\n"
     ]
    }
   ],
   "source": [
    "import pandas as pd\n",
    "import tensorflow as tf\n",
    "from matplotlib import pyplot as plt\n",
    "\n",
    "# The following lines adjust the granularity of reporting. \n",
    "pd.options.display.max_rows = 10\n",
    "pd.options.display.float_format = \"{:.1f}\".format\n",
    "training_df = pd.read_csv(filepath_or_buffer=\"workdir/california_housing_train.csv\")\n",
    "# Scale the label.\n",
    "training_df[\"median_house_value\"] /= 1000.0"
   ]
  },
  {
   "cell_type": "code",
   "execution_count": 20,
   "id": "e5ab8ec6-2dec-4dff-bf30-801d6bd8bf4e",
   "metadata": {
    "tags": []
   },
   "outputs": [],
   "source": [
    "def build_model(my_learning_rate):\n",
    "  \"\"\"Create and compile a simple linear regression model.\"\"\"\n",
    "  # Most simple tf.keras models are sequential.\n",
    "  model = tf.keras.models.Sequential()\n",
    "\n",
    "  # Describe the topography of the model.\n",
    "  # The topography of a simple linear regression model\n",
    "  # is a single node in a single layer.\n",
    "  model.add(tf.keras.layers.Dense(units=1, \n",
    "                                  input_shape=(1,)))\n",
    "\n",
    "  # Compile the model topography into code that TensorFlow can efficiently\n",
    "  # execute. Configure training to minimize the model's mean squared error. \n",
    "  model.compile(optimizer=tf.keras.optimizers.experimental.RMSprop(learning_rate=my_learning_rate),\n",
    "                loss=\"mean_squared_error\",\n",
    "                metrics=[tf.keras.metrics.RootMeanSquaredError()])\n",
    "\n",
    "  return model        \n",
    "\n",
    "\n",
    "def train_model(model, df, feature, label, epochs, batch_size):\n",
    "  \"\"\"Train the model by feeding it data.\"\"\"\n",
    "\n",
    "  # Feed the model the feature and the label.\n",
    "  # The model will train for the specified number of epochs. \n",
    "  history = model.fit(x=df[feature],\n",
    "                      y=df[label],\n",
    "                      batch_size=batch_size,\n",
    "                      epochs=epochs)\n",
    "\n",
    "  # Gather the trained model's weight and bias.\n",
    "  trained_weight = model.get_weights()[0]\n",
    "  trained_bias = model.get_weights()[1]\n",
    "\n",
    "  # The list of epochs is stored separately from the rest of history.\n",
    "  epochs = history.epoch\n",
    "  \n",
    "  # Isolate the error for each epoch.\n",
    "  hist = pd.DataFrame(history.history)\n",
    "\n",
    "  # To track the progression of training, we're going to take a snapshot\n",
    "  # of the model's root mean squared error at each epoch. \n",
    "  rmse = hist[\"root_mean_squared_error\"]\n",
    "\n",
    "  return trained_weight, trained_bias, epochs, rmse\n",
    "\n",
    "def plot_the_model(trained_weight, trained_bias, feature, label):\n",
    "  \"\"\"Plot the trained model against 200 random training examples.\"\"\"\n",
    "\n",
    "  # Label the axes.\n",
    "  plt.xlabel(feature)\n",
    "  plt.ylabel(label)\n",
    "\n",
    "  # Create a scatter plot from 200 random points of the dataset.\n",
    "  random_examples = training_df.sample(n=200)\n",
    "  plt.scatter(random_examples[feature], random_examples[label])\n",
    "\n",
    "  # Create a red line representing the model. The red line starts\n",
    "  # at coordinates (x0, y0) and ends at coordinates (x1, y1).\n",
    "  x0 = 0\n",
    "  y0 = trained_bias\n",
    "  x1 = random_examples[feature].max()\n",
    "  y1 = trained_bias + (trained_weight * x1)\n",
    "  plt.plot([x0, x1], [y0, y1], c='r')\n",
    "\n",
    "  # Render the scatter plot and the red line.\n",
    "  plt.show()\n",
    "\n",
    "\n",
    "def plot_the_loss_curve(epochs, rmse):\n",
    "  \"\"\"Plot a curve of loss vs. epoch.\"\"\"\n",
    "\n",
    "  plt.figure()\n",
    "  plt.xlabel(\"Epoch\")\n",
    "  plt.ylabel(\"Root Mean Squared Error\")\n",
    "\n",
    "  plt.plot(epochs, rmse, label=\"Loss\")\n",
    "  plt.legend()\n",
    "  plt.ylim([rmse.min()*0.97, rmse.max()])\n",
    "  plt.show()  "
   ]
  },
  {
   "cell_type": "code",
   "execution_count": 23,
   "id": "2fc8a7df-4428-47e4-aa09-d8f29c29c602",
   "metadata": {
    "tags": []
   },
   "outputs": [
    {
     "name": "stdout",
     "output_type": "stream",
     "text": [
      "Epoch 1/30\n",
      "567/567 [==============================] - 1s 1ms/step - loss: 215438.1719 - root_mean_squared_error: 464.1532\n",
      "Epoch 2/30\n",
      "567/567 [==============================] - 1s 979us/step - loss: 28140.0469 - root_mean_squared_error: 167.7500\n",
      "Epoch 3/30\n",
      "567/567 [==============================] - 1s 998us/step - loss: 27300.8828 - root_mean_squared_error: 165.2298\n",
      "Epoch 4/30\n",
      "567/567 [==============================] - 1s 1ms/step - loss: 26580.5625 - root_mean_squared_error: 163.0355\n",
      "Epoch 5/30\n",
      "567/567 [==============================] - 1s 988us/step - loss: 25696.9277 - root_mean_squared_error: 160.3026\n",
      "Epoch 6/30\n",
      "567/567 [==============================] - 1s 1ms/step - loss: 25300.5566 - root_mean_squared_error: 159.0615\n",
      "Epoch 7/30\n",
      "567/567 [==============================] - 1s 1ms/step - loss: 24456.3672 - root_mean_squared_error: 156.3853\n",
      "Epoch 8/30\n",
      "567/567 [==============================] - 1s 1ms/step - loss: 23515.6543 - root_mean_squared_error: 153.3481\n",
      "Epoch 9/30\n",
      "567/567 [==============================] - 1s 1ms/step - loss: 23267.6055 - root_mean_squared_error: 152.5372\n",
      "Epoch 10/30\n",
      "567/567 [==============================] - 1s 971us/step - loss: 22657.5391 - root_mean_squared_error: 150.5242\n",
      "Epoch 11/30\n",
      "567/567 [==============================] - 1s 1ms/step - loss: 21943.2480 - root_mean_squared_error: 148.1325\n",
      "Epoch 12/30\n",
      "567/567 [==============================] - 1s 1ms/step - loss: 21500.3516 - root_mean_squared_error: 146.6300\n",
      "Epoch 13/30\n",
      "567/567 [==============================] - 1s 1ms/step - loss: 20934.6875 - root_mean_squared_error: 144.6882\n",
      "Epoch 14/30\n",
      "567/567 [==============================] - 1s 1ms/step - loss: 20507.2637 - root_mean_squared_error: 143.2036\n",
      "Epoch 15/30\n",
      "567/567 [==============================] - 1s 1ms/step - loss: 20131.4453 - root_mean_squared_error: 141.8853\n",
      "Epoch 16/30\n",
      "567/567 [==============================] - 1s 1ms/step - loss: 19664.5078 - root_mean_squared_error: 140.2302\n",
      "Epoch 17/30\n",
      "567/567 [==============================] - 1s 1ms/step - loss: 18991.1602 - root_mean_squared_error: 137.8084\n",
      "Epoch 18/30\n",
      "567/567 [==============================] - 1s 1ms/step - loss: 18597.5645 - root_mean_squared_error: 136.3729\n",
      "Epoch 19/30\n",
      "567/567 [==============================] - 1s 1ms/step - loss: 18267.3066 - root_mean_squared_error: 135.1566\n",
      "Epoch 20/30\n",
      "567/567 [==============================] - 1s 1ms/step - loss: 18042.7598 - root_mean_squared_error: 134.3233\n",
      "Epoch 21/30\n",
      "567/567 [==============================] - 1s 1ms/step - loss: 17685.4043 - root_mean_squared_error: 132.9865\n",
      "Epoch 22/30\n",
      "567/567 [==============================] - 1s 1ms/step - loss: 17149.1484 - root_mean_squared_error: 130.9548\n",
      "Epoch 23/30\n",
      "567/567 [==============================] - 1s 1ms/step - loss: 16908.9062 - root_mean_squared_error: 130.0343\n",
      "Epoch 24/30\n",
      "567/567 [==============================] - 1s 986us/step - loss: 16646.8164 - root_mean_squared_error: 129.0225\n",
      "Epoch 25/30\n",
      "567/567 [==============================] - 1s 995us/step - loss: 16506.7988 - root_mean_squared_error: 128.4788\n",
      "Epoch 26/30\n",
      "567/567 [==============================] - 1s 1ms/step - loss: 16165.9385 - root_mean_squared_error: 127.1453\n",
      "Epoch 27/30\n",
      "567/567 [==============================] - 1s 1ms/step - loss: 15902.1631 - root_mean_squared_error: 126.1038\n",
      "Epoch 28/30\n",
      "567/567 [==============================] - 1s 1ms/step - loss: 15661.5137 - root_mean_squared_error: 125.1460\n",
      "Epoch 29/30\n",
      "567/567 [==============================] - 1s 1ms/step - loss: 15402.5889 - root_mean_squared_error: 124.1072\n",
      "Epoch 30/30\n",
      "567/567 [==============================] - 1s 1ms/step - loss: 15302.5371 - root_mean_squared_error: 123.7034\n",
      "\n",
      "The learned weight for your model is 0.0105\n",
      "The learned bias for your model is 131.5950\n",
      "\n"
     ]
    }
   ],
   "source": [
    "# The following variables are the hyperparameters.\n",
    "learning_rate = 0.01\n",
    "epochs = 30\n",
    "batch_size = 30\n",
    "\n",
    "# Specify the feature and the label.\n",
    "my_feature = \"total_rooms\"  # the total number of rooms on a specific city block.\n",
    "my_label=\"median_house_value\" # the median value of a house on a specific city block.\n",
    "# That is, you're going to create a model that predicts house value based \n",
    "# solely on total_rooms.  \n",
    "\n",
    "# Discard any pre-existing version of the model.\n",
    "my_model = None\n",
    "\n",
    "# Invoke the functions.\n",
    "my_model = build_model(learning_rate)\n",
    "weight, bias, epochs, rmse = train_model(my_model, training_df, \n",
    "                                         my_feature, my_label,\n",
    "                                         epochs, batch_size)\n",
    "\n",
    "print(\"\\nThe learned weight for your model is %.4f\" % weight)\n",
    "print(\"The learned bias for your model is %.4f\\n\" % bias )\n",
    "\n",
    "#plot_the_model(weight, bias, my_feature, my_label)\n",
    "#plot_the_loss_curve(epochs, rmse)"
   ]
  },
  {
   "cell_type": "code",
   "execution_count": 24,
   "id": "77b332a4-7122-49aa-a06f-b85fe6a154c9",
   "metadata": {
    "tags": []
   },
   "outputs": [],
   "source": [
    "def predict_house_values(n, feature, label):\n",
    "  \"\"\"Predict house values based on a feature.\"\"\"\n",
    "\n",
    "  batch = training_df[feature][10000:10000 + n]\n",
    "  predicted_values = my_model.predict_on_batch(x=batch)\n",
    "\n",
    "  print(\"feature   label          predicted\")\n",
    "  print(\"  value   value          value\")\n",
    "  print(\"          in thousand$   in thousand$\")\n",
    "  print(\"--------------------------------------\")\n",
    "  for i in range(n):\n",
    "    print (\"%5.0f %6.0f %15.0f\" % (training_df[feature][10000 + i],\n",
    "                                   training_df[label][10000 + i],\n",
    "                                   predicted_values[i][0] ))"
   ]
  },
  {
   "cell_type": "code",
   "execution_count": 25,
   "id": "3108e4db-3999-48df-a1a3-8b94412a5926",
   "metadata": {
    "tags": []
   },
   "outputs": [
    {
     "name": "stdout",
     "output_type": "stream",
     "text": [
      "feature   label          predicted\n",
      "  value   value          value\n",
      "          in thousand$   in thousand$\n",
      "--------------------------------------\n",
      " 1960     53             152\n",
      " 3400     92             167\n",
      " 3677     69             170\n",
      " 2202     62             155\n",
      " 2403     80             157\n",
      " 5652    295             191\n",
      " 3318    500             167\n",
      " 2552    342             158\n",
      " 1364    118             146\n",
      " 3468    128             168\n",
      "2023-06-21 19:07:07.236938: I tensorflow/core/common_runtime/executor.cc:1197] [/device:CPU:0] (DEBUG INFO) Executor start aborting (this does not indicate an error and you can ignore this message): INVALID_ARGUMENT: You must feed a value for placeholder tensor 'Placeholder/_0' with dtype float and shape [10,1]\n",
      "\t [[{{node Placeholder/_0}}]]\n"
     ]
    }
   ],
   "source": [
    "predict_house_values(10, my_feature, my_label)"
   ]
  },
  {
   "cell_type": "code",
   "execution_count": 26,
   "id": "bbb0a0ef-eb7a-4824-8b33-9d0d2106898a",
   "metadata": {
    "tags": []
   },
   "outputs": [
    {
     "name": "stdout",
     "output_type": "stream",
     "text": [
      "Disconnecting... done.\n",
      "Connection time: 6 minutes\n",
      "Total cost: 0.005624961037186111\n",
      "Allocated 0.991143181167029444 glm on polygon"
     ]
    }
   ],
   "source": [
    "%disconnect"
   ]
  }
 ],
 "metadata": {
  "kernelspec": {
   "display_name": "Golem",
   "language": "python",
   "name": "golem"
  },
  "language_info": {
   "file_extension": ".py",
   "mimetype": "text/x-python",
   "name": "python"
  }
 },
 "nbformat": 4,
 "nbformat_minor": 5
}
