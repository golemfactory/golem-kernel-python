{
 "cells": [
  {
   "cell_type": "code",
   "execution_count": 10,
   "id": "3c98a126",
   "metadata": {
    "tags": []
   },
   "outputs": [
    {
     "name": "stdout",
     "output_type": "stream",
     "text": [
      "Connected as node 0x0d75a6bf59b522ce9c148ecf42ab05a6fb97ca7b\n",
      "On Polygon[mainnet]: 18.54 GLM 0.0036 MATIC\n",
      "On Rinkeby[testnet]: 854.77 tGLM 0.0104 tETH\n",
      "\n",
      "Allocated 0.999956864009370833 tglm on rinkeby\n"
     ]
    }
   ],
   "source": [
    "%status"
   ]
  },
  {
   "cell_type": "code",
   "execution_count": 11,
   "id": "8c1f7b1e",
   "metadata": {
    "tags": []
   },
   "outputs": [
    {
     "name": "stdout",
     "output_type": "stream",
     "text": [
      "Waiting for funds\n",
      "On Rinkeby[testnet]: 854.77 tGLM 0.0104 tETH\n",
      "Allocated 0.999956864009370833 tglm on rinkeby"
     ]
    }
   ],
   "source": [
    "%fund rinkeby"
   ]
  },
  {
   "cell_type": "code",
   "execution_count": 12,
   "id": "b928899b-3adf-4d7d-a559-f40fec01bbe3",
   "metadata": {},
   "outputs": [
    {
     "name": "stdout",
     "output_type": "stream",
     "text": [
      "Allocated 1 tglm on rinkeby"
     ]
    }
   ],
   "source": [
    "%budget rinkeby 1"
   ]
  },
  {
   "cell_type": "code",
   "execution_count": 13,
   "id": "9f58e2db-3d9c-4ab8-a21f-2650f076d751",
   "metadata": {},
   "outputs": [
    {
     "name": "stdout",
     "output_type": "stream",
     "text": [
      "Searching for (RAM>=1.0gb DISK>=3.0gb CPU>=2)...\n",
      "Connected to jiuzhang.h [0xed827a418ddd23ead600ce8c4d1fed662a330fdf]\n",
      "    RAM: 8.0 GB\n",
      "    DISK: 100.0 GB\n",
      "    CPU: 4 cores\n",
      "Engine is starting... ready."
     ]
    }
   ],
   "source": [
    "%connect mem>1 cores>2 disk>3"
   ]
  },
  {
   "cell_type": "code",
   "execution_count": null,
   "id": "1fbbbf0d-ba36-4a75-8853-60a2e0ccf431",
   "metadata": {},
   "outputs": [],
   "source": [
    "!uname -a"
   ]
  },
  {
   "cell_type": "code",
   "execution_count": null,
   "id": "17f6f758-5f34-4d93-899d-b116aa45bd12",
   "metadata": {
    "tags": []
   },
   "outputs": [],
   "source": [
    "import numpy as np"
   ]
  },
  {
   "cell_type": "code",
   "execution_count": null,
   "id": "ee8b562b-33f1-4a87-87ac-cf20561170cf",
   "metadata": {
    "tags": []
   },
   "outputs": [],
   "source": [
    "a = np.random.normal(size=[3, 3])\n",
    "b = np.random.normal(size=[3, 3])"
   ]
  },
  {
   "cell_type": "code",
   "execution_count": null,
   "id": "bfad8c8a-37cb-4809-bb5a-14ee39ecec5e",
   "metadata": {},
   "outputs": [],
   "source": [
    "np.dot(a,b)"
   ]
  },
  {
   "cell_type": "code",
   "execution_count": null,
   "id": "5d134c05-8e7a-485b-988d-c607904a9604",
   "metadata": {},
   "outputs": [],
   "source": [
    "%disconnect"
   ]
  },
  {
   "cell_type": "code",
   "execution_count": null,
   "id": "59227f52-6a6f-4230-a034-38f1d0f29fdd",
   "metadata": {},
   "outputs": [],
   "source": []
  }
 ],
 "metadata": {
  "kernelspec": {
   "display_name": "Golem",
   "language": "",
   "name": "golem"
  },
  "language_info": {
   "file_extension": ".py",
   "mimetype": "text/x-python",
   "name": "python"
  }
 },
 "nbformat": 4,
 "nbformat_minor": 5
}
