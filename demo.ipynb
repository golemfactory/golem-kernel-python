{
 "cells": [
  {
   "cell_type": "code",
   "execution_count": 1,
   "id": "3c98a126",
   "metadata": {
    "tags": []
   },
   "outputs": [
    {
     "name": "stdout",
     "output_type": "stream",
     "text": [
      "Connected as node 0x0d75a6bf59b522ce9c148ecf42ab05a6fb97ca7b\n",
      "On Polygon[mainnet]: 18.54 GLM 0.0036 MATIC\n",
      "On Rinkeby[testnet]: 854.79 tGLM 0.0133 tETH\n",
      "\n",
      "No budget defined!\n"
     ]
    }
   ],
   "source": [
    "%status"
   ]
  },
  {
   "cell_type": "code",
   "execution_count": 10,
   "id": "8c1f7b1e",
   "metadata": {
    "tags": []
   },
   "outputs": [
    {
     "name": "stdout",
     "output_type": "stream",
     "text": [
      "Waiting for funds\n",
      "On Rinkeby[testnet]: 854.79 tGLM 0.0133 tETH\n",
      "Allocated 3.996399369088250000 tglm on rinkeby"
     ]
    }
   ],
   "source": [
    "%fund rinkeby"
   ]
  },
  {
   "cell_type": "code",
   "execution_count": 11,
   "id": "b928899b-3adf-4d7d-a559-f40fec01bbe3",
   "metadata": {},
   "outputs": [
    {
     "name": "stdout",
     "output_type": "stream",
     "text": [
      "Allocated 4.0999999999999996447286321199499070644378662109375 tglm on rinkeby"
     ]
    }
   ],
   "source": [
    "%budget rinkeby 4.1"
   ]
  },
  {
   "cell_type": "code",
   "execution_count": 13,
   "id": "9f58e2db-3d9c-4ab8-a21f-2650f076d751",
   "metadata": {},
   "outputs": [
    {
     "name": "stdout",
     "output_type": "stream",
     "text": [
      "Searching...\n",
      "Connected to Fermi I [0xe61444655190f8bee2401f6e13d8a41ae00d2c70]\n",
      "    RAM: 16.0 GB\n",
      "    DISK: 16.0 GB\n",
      "    CPU: 24 cores\n",
      "Engine is starting... ready."
     ]
    }
   ],
   "source": [
    "%connect mem>1 cores>2 strategy=bestprice image_hash=aaa"
   ]
  },
  {
   "cell_type": "code",
   "execution_count": 5,
   "id": "1fbbbf0d-ba36-4a75-8853-60a2e0ccf431",
   "metadata": {},
   "outputs": [
    {
     "name": "stdout",
     "output_type": "stream",
     "text": [
      "Linux (none) 5.10.29-0-virt #1-Alpine SMP Mon, 12 Apr 2021 15:48:39 UTC x86_64 GNU/Linux\n"
     ]
    }
   ],
   "source": [
    "!uname -a\n"
   ]
  },
  {
   "cell_type": "code",
   "execution_count": 6,
   "id": "17f6f758-5f34-4d93-899d-b116aa45bd12",
   "metadata": {
    "tags": []
   },
   "outputs": [],
   "source": [
    "import numpy as np"
   ]
  },
  {
   "cell_type": "code",
   "execution_count": 7,
   "id": "ee8b562b-33f1-4a87-87ac-cf20561170cf",
   "metadata": {
    "tags": []
   },
   "outputs": [],
   "source": [
    "a = np.random.normal(size=[3, 3])\n",
    "b = np.random.normal(size=[3, 3])"
   ]
  },
  {
   "cell_type": "code",
   "execution_count": 8,
   "id": "bfad8c8a-37cb-4809-bb5a-14ee39ecec5e",
   "metadata": {},
   "outputs": [
    {
     "data": {
      "text/plain": [
       "array([[-0.48537164,  0.43230042,  0.96882486],\n",
       "       [-2.65628242,  1.74455441,  1.96809367],\n",
       "       [-0.31831473,  0.02343887, -0.26495391]])"
      ]
     },
     "execution_count": 8,
     "metadata": {},
     "output_type": "execute_result"
    }
   ],
   "source": [
    "np.dot(a,b)"
   ]
  },
  {
   "cell_type": "code",
   "execution_count": 12,
   "id": "5d134c05-8e7a-485b-988d-c607904a9604",
   "metadata": {},
   "outputs": [
    {
     "name": "stdout",
     "output_type": "stream",
     "text": [
      "No connected provider"
     ]
    }
   ],
   "source": [
    "%disconnect"
   ]
  },
  {
   "cell_type": "code",
   "execution_count": null,
   "id": "59227f52-6a6f-4230-a034-38f1d0f29fdd",
   "metadata": {},
   "outputs": [],
   "source": []
  }
 ],
 "metadata": {
  "kernelspec": {
   "display_name": "Golem",
   "language": "",
   "name": "golem"
  },
  "language_info": {
   "file_extension": ".py",
   "mimetype": "text/x-python",
   "name": "python"
  }
 },
 "nbformat": 4,
 "nbformat_minor": 5
}
