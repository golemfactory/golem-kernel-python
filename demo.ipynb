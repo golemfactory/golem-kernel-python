{
 "cells": [
  {
   "cell_type": "code",
   "execution_count": 1,
   "id": "3c98a126",
   "metadata": {
    "tags": []
   },
   "outputs": [
    {
     "name": "stdout",
     "output_type": "stream",
     "text": [
      "Connected as node 0x0d75a6bf59b522ce9c148ecf42ab05a6fb97ca7b\n",
      "On Polygon[mainnet]: 18.54 GLM 0.0036 MATIC\n",
      "On Rinkeby[testnet]: 854.81 tGLM 0.0145 tETH\n",
      "\n",
      "No budget defined!\n"
     ]
    }
   ],
   "source": [
    "%status"
   ]
  },
  {
   "cell_type": "code",
   "execution_count": 2,
   "id": "8c1f7b1e",
   "metadata": {
    "tags": []
   },
   "outputs": [
    {
     "name": "stdout",
     "output_type": "stream",
     "text": [
      "Waiting for funds\n",
      "On Rinkeby[testnet]: 854.81 tGLM 0.0145 tETH\n",
      "No budget defined!"
     ]
    }
   ],
   "source": [
    "%fund rinkeby"
   ]
  },
  {
   "cell_type": "code",
   "execution_count": 3,
   "id": "b928899b-3adf-4d7d-a559-f40fec01bbe3",
   "metadata": {},
   "outputs": [
    {
     "name": "stdout",
     "output_type": "stream",
     "text": [
      "Allocated 3 glm on polygon"
     ]
    }
   ],
   "source": [
    "%budget polygon 3"
   ]
  },
  {
   "cell_type": "code",
   "execution_count": 4,
   "id": "f6164964-870e-4311-a8ea-2a2634d126c6",
   "metadata": {},
   "outputs": [
    {
     "name": "stdout",
     "output_type": "stream",
     "text": [
      "Connected as node 0x0d75a6bf59b522ce9c148ecf42ab05a6fb97ca7b\n",
      "On Polygon[mainnet]: 18.54 GLM 0.0036 MATIC\n",
      "On Rinkeby[testnet]: 854.81 tGLM 0.0145 tETH\n",
      "\n",
      "Allocated 3 glm on polygon\n"
     ]
    }
   ],
   "source": [
    "%status"
   ]
  },
  {
   "cell_type": "code",
   "execution_count": 5,
   "id": "9f58e2db-3d9c-4ab8-a21f-2650f076d751",
   "metadata": {},
   "outputs": [
    {
     "name": "stdout",
     "output_type": "stream",
     "text": [
      "Searching...\n",
      "Connected to immense-achiever [0x351b11ed56c2bc4c0c960d8064f81586b309ff89]\n",
      "    RAM: 0.6371036171913147 GB\n",
      "    DISK: 6.528240203857422 GB\n",
      "    CPU: 12 cores\n",
      "Engine is starting... ready."
     ]
    }
   ],
   "source": [
    "%connect mem>1gb cores>2 strategy=bestprice"
   ]
  },
  {
   "cell_type": "code",
   "execution_count": null,
   "id": "1fbbbf0d-ba36-4a75-8853-60a2e0ccf431",
   "metadata": {},
   "outputs": [],
   "source": [
    "!uname -a\n"
   ]
  },
  {
   "cell_type": "code",
   "execution_count": null,
   "id": "6429dd96-448a-4d55-a951-440c09054dfe",
   "metadata": {},
   "outputs": [],
   "source": [
    "%ls -l"
   ]
  },
  {
   "cell_type": "code",
   "execution_count": null,
   "id": "17f6f758-5f34-4d93-899d-b116aa45bd12",
   "metadata": {
    "tags": []
   },
   "outputs": [],
   "source": [
    "import numpy as np"
   ]
  },
  {
   "cell_type": "code",
   "execution_count": null,
   "id": "ee8b562b-33f1-4a87-87ac-cf20561170cf",
   "metadata": {
    "tags": []
   },
   "outputs": [],
   "source": [
    "a = np.random.normal(size=[3, 3])\n",
    "b = np.random.normal(size=[3, 3])"
   ]
  },
  {
   "cell_type": "code",
   "execution_count": null,
   "id": "bfad8c8a-37cb-4809-bb5a-14ee39ecec5e",
   "metadata": {},
   "outputs": [],
   "source": [
    "np.dot(a,b)"
   ]
  }
 ],
 "metadata": {
  "kernelspec": {
   "display_name": "Golem",
   "language": "",
   "name": "golem"
  },
  "language_info": {
   "file_extension": ".py",
   "mimetype": "text/x-python",
   "name": "python"
  }
 },
 "nbformat": 4,
 "nbformat_minor": 5
}
