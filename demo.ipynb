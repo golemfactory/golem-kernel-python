{
 "cells": [
  {
   "cell_type": "code",
   "execution_count": 1,
   "id": "3c98a126",
   "metadata": {
    "tags": []
   },
   "outputs": [
    {
     "name": "stdout",
     "output_type": "stream",
     "text": [
      "Connected as node 0x044dc20ee8e77d7fc744711d296db98817bc038d\n",
      "On Polygon[mainnet]: 0.00 GLM 0.0000 MATIC\n",
      "On Rinkeby[testnet]: 0.00 tGLM 0.0000 tETH\n",
      "\n",
      "No budget defined!\n"
     ]
    }
   ],
   "source": [
    "%status"
   ]
  },
  {
   "cell_type": "code",
   "execution_count": 2,
   "id": "8c1f7b1e",
   "metadata": {
    "tags": []
   },
   "outputs": [
    {
     "name": "stdout",
     "output_type": "stream",
     "text": [
      "Waiting for funds\n",
      "On Rinkeby[testnet]: 1000.00 tGLM 0.0099 tETH\n",
      "No budget defined!"
     ]
    }
   ],
   "source": [
    "%fund rinkeby"
   ]
  },
  {
   "cell_type": "code",
   "execution_count": 3,
   "id": "b928899b-3adf-4d7d-a559-f40fec01bbe3",
   "metadata": {},
   "outputs": [
    {
     "name": "stdout",
     "output_type": "stream",
     "text": [
      "Allocated 1 tglm on rinkeby"
     ]
    }
   ],
   "source": [
    "%budget rinkeby 1"
   ]
  },
  {
   "cell_type": "code",
   "execution_count": 4,
   "id": "9f58e2db-3d9c-4ab8-a21f-2650f076d751",
   "metadata": {},
   "outputs": [
    {
     "name": "stdout",
     "output_type": "stream",
     "text": [
      "Searching for (RAM>=1.0gb CPU>=2)...\n",
      "Connected to q53.h [0x7d2e5c5f845de0475585efaff754bc9c96b5fbf4]\n",
      "    RAM: 8.0 GB\n",
      "    DISK: 100.0 GB\n",
      "    CPU: 4 cores\n",
      "Engine is starting... ready."
     ]
    }
   ],
   "source": [
    "%connect mem>1 cores>2 strategy=bestprice"
   ]
  },
  {
   "cell_type": "code",
   "execution_count": 5,
   "id": "a11dda29-02bb-4cbb-be39-7183ee350d2a",
   "metadata": {},
   "outputs": [
    {
     "name": "stdout",
     "output_type": "stream",
     "text": [
      "Linux (none) 5.10.29-0-virt #1-Alpine SMP Mon, 12 Apr 2021 15:48:39 UTC x86_64 GNU/Linux\n"
     ]
    }
   ],
   "source": [
    "!uname -a"
   ]
  },
  {
   "cell_type": "code",
   "execution_count": 6,
   "id": "1707e19c-dc2b-4b9d-b2d6-8f44669f5bf4",
   "metadata": {
    "tags": []
   },
   "outputs": [],
   "source": [
    "import numpy as np"
   ]
  },
  {
   "cell_type": "code",
   "execution_count": 7,
   "id": "97501c29-c847-436b-ba1f-79a85030eb44",
   "metadata": {
    "tags": []
   },
   "outputs": [],
   "source": [
    "a = np.random.normal(size=[3, 3])\n",
    "b = np.random.normal(size=[3, 3])"
   ]
  },
  {
   "cell_type": "code",
   "execution_count": 8,
   "id": "506b071e-2864-41c1-8a7c-9717a9bf0f5d",
   "metadata": {
    "tags": []
   },
   "outputs": [
    {
     "data": {
      "text/plain": [
       "array([[-0.62768349,  0.36270928,  2.81669309],\n",
       "       [-0.7335114 ,  0.4695333 ,  0.53816313],\n",
       "       [ 3.264406  , -1.77329644, -1.38096687]])"
      ]
     },
     "execution_count": 8,
     "metadata": {},
     "output_type": "execute_result"
    }
   ],
   "source": [
    "np.dot(a,b)"
   ]
  },
  {
   "cell_type": "code",
   "execution_count": 9,
   "id": "5d134c05-8e7a-485b-988d-c607904a9604",
   "metadata": {},
   "outputs": [
    {
     "name": "stdout",
     "output_type": "stream",
     "text": [
      "Disconnecting... done.\n",
      "Total cost: 0.00137990136465\n",
      "Allocated 0.998620098635350000 tglm on rinkeby"
     ]
    }
   ],
   "source": [
    "%disconnect"
   ]
  },
  {
   "cell_type": "code",
   "execution_count": null,
   "id": "693a22b9-8581-4cbc-b5ab-c31608f5defb",
   "metadata": {},
   "outputs": [],
   "source": []
  }
 ],
 "metadata": {
  "kernelspec": {
   "display_name": "Golem",
   "language": "python",
   "name": "golem"
  },
  "language_info": {
   "file_extension": ".py",
   "mimetype": "text/x-python",
   "name": "python"
  }
 },
 "nbformat": 4,
 "nbformat_minor": 5
}
