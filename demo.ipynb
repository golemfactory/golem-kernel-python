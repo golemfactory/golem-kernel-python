{
 "cells": [
  {
   "cell_type": "code",
   "execution_count": 1,
   "id": "3c98a126",
   "metadata": {
    "tags": []
   },
   "outputs": [
    {
     "name": "stdout",
     "output_type": "stream",
     "text": [
      "Connected as node 0x0d75a6bf59b522ce9c148ecf42ab05a6fb97ca7b\n",
      "On Polygon[mainnet]: 18.54 GLM 0.0036 MATIC\n",
      "On Rinkeby[testnet]: 854.80 tGLM 0.0141 tETH\n",
      "\n",
      "No budget defined!\n"
     ]
    }
   ],
   "source": [
    "%status"
   ]
  },
  {
   "cell_type": "code",
   "execution_count": 2,
   "id": "8c1f7b1e",
   "metadata": {
    "tags": []
   },
   "outputs": [
    {
     "name": "stdout",
     "output_type": "stream",
     "text": [
      "Waiting for funds\n",
      "On Rinkeby[testnet]: 854.80 tGLM 0.0141 tETH\n",
      "No budget defined!"
     ]
    }
   ],
   "source": [
    "%fund rinkeby"
   ]
  },
  {
   "cell_type": "code",
   "execution_count": 3,
   "id": "b928899b-3adf-4d7d-a559-f40fec01bbe3",
   "metadata": {},
   "outputs": [
    {
     "name": "stdout",
     "output_type": "stream",
     "text": [
      "Allocated 3 tglm on rinkeby"
     ]
    }
   ],
   "source": [
    "%budget rinkeby 3"
   ]
  },
  {
   "cell_type": "code",
   "execution_count": 4,
   "id": "9f58e2db-3d9c-4ab8-a21f-2650f076d751",
   "metadata": {},
   "outputs": [
    {
     "name": "stdout",
     "output_type": "stream",
     "text": [
      "Searching...\n",
      "Connected to bristlecone.h [0xccb9504c3a8fdb3a6984eb514112676829aa4202]\n",
      "    RAM: 8.0 GB\n",
      "    DISK: 100.0 GB\n",
      "    CPU: 4 cores\n",
      "Engine is starting... ready."
     ]
    }
   ],
   "source": [
    "%connect mem>1gb cores>2 strategy=bestprice"
   ]
  },
  {
   "cell_type": "code",
   "execution_count": 5,
   "id": "1fbbbf0d-ba36-4a75-8853-60a2e0ccf431",
   "metadata": {},
   "outputs": [
    {
     "name": "stdout",
     "output_type": "stream",
     "text": [
      "Linux (none) 5.10.29-0-virt #1-Alpine SMP Mon, 12 Apr 2021 15:48:39 UTC x86_64 GNU/Linux\n"
     ]
    }
   ],
   "source": [
    "!uname -a\n"
   ]
  },
  {
   "cell_type": "code",
   "execution_count": 6,
   "id": "6429dd96-448a-4d55-a951-440c09054dfe",
   "metadata": {},
   "outputs": [
    {
     "name": "stdout",
     "output_type": "stream",
     "text": [
      "total 4\n",
      "drwxr-xr-x 2 root root   60 Feb 21 10:52 \u001b[0m\u001b[01;34m__pycache__\u001b[0m/\n",
      "-rw-rw-r-- 1 root root 1320 Feb  9 13:31 server.py\n",
      "-rw-rw-r-- 1 root root 1776 Feb  6 12:08 simple_client.py\n"
     ]
    }
   ],
   "source": [
    "%ls -l"
   ]
  },
  {
   "cell_type": "code",
   "execution_count": 7,
   "id": "17f6f758-5f34-4d93-899d-b116aa45bd12",
   "metadata": {
    "tags": []
   },
   "outputs": [],
   "source": [
    "import numpy as np"
   ]
  },
  {
   "cell_type": "code",
   "execution_count": 8,
   "id": "ee8b562b-33f1-4a87-87ac-cf20561170cf",
   "metadata": {
    "tags": []
   },
   "outputs": [],
   "source": [
    "a = np.random.normal(size=[3, 3])\n",
    "b = np.random.normal(size=[3, 3])"
   ]
  },
  {
   "cell_type": "code",
   "execution_count": 9,
   "id": "bfad8c8a-37cb-4809-bb5a-14ee39ecec5e",
   "metadata": {},
   "outputs": [
    {
     "data": {
      "text/plain": [
       "array([[ 0.02282228,  0.60874664, -1.74757533],\n",
       "       [ 0.44454279, -0.12805173,  3.57995701],\n",
       "       [-0.51209621,  0.31759545,  2.16777553]])"
      ]
     },
     "execution_count": 9,
     "metadata": {},
     "output_type": "execute_result"
    }
   ],
   "source": [
    "np.dot(a,b)"
   ]
  }
 ],
 "metadata": {
  "kernelspec": {
   "display_name": "Golem",
   "language": "",
   "name": "golem"
  },
  "language_info": {
   "file_extension": ".py",
   "mimetype": "text/x-python",
   "name": "python"
  }
 },
 "nbformat": 4,
 "nbformat_minor": 5
}
