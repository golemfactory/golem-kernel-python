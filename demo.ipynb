{
 "cells": [
  {
   "cell_type": "code",
   "execution_count": 1,
   "id": "3c98a126",
   "metadata": {
    "tags": []
   },
   "outputs": [
    {
     "name": "stdout",
     "output_type": "stream",
     "text": [
      "Connected as node 0x0d75a6bf59b522ce9c148ecf42ab05a6fb97ca7b\n",
      "On Polygon[mainnet]: 18.54 GLM 0.0036 MATIC\n",
      "On Rinkeby[testnet]: 854.76 tGLM 0.0095 tETH\n",
      "\n",
      "No budget defined!\n"
     ]
    }
   ],
   "source": [
    "%status"
   ]
  },
  {
   "cell_type": "code",
   "execution_count": 2,
   "id": "8c1f7b1e",
   "metadata": {
    "tags": []
   },
   "outputs": [
    {
     "name": "stdout",
     "output_type": "stream",
     "text": [
      "Waiting for funds\n",
      "On Rinkeby[testnet]: 854.76 tGLM 0.0095 tETH\n",
      "No budget defined!"
     ]
    }
   ],
   "source": [
    "%fund rinkeby"
   ]
  },
  {
   "cell_type": "code",
   "execution_count": 3,
   "id": "b928899b-3adf-4d7d-a559-f40fec01bbe3",
   "metadata": {},
   "outputs": [
    {
     "name": "stdout",
     "output_type": "stream",
     "text": [
      "Allocated 1 tglm on rinkeby"
     ]
    }
   ],
   "source": [
    "%budget rinkeby 1"
   ]
  },
  {
   "cell_type": "code",
   "execution_count": 4,
   "id": "9f58e2db-3d9c-4ab8-a21f-2650f076d751",
   "metadata": {},
   "outputs": [
    {
     "name": "stdout",
     "output_type": "stream",
     "text": [
      "Searching for (RAM>=1.0gb CPU>=2)...\n",
      "Connected to Fermi I [0xe61444655190f8bee2401f6e13d8a41ae00d2c70]\n",
      "    RAM: 16.0 GB\n",
      "    DISK: 16.0 GB\n",
      "    CPU: 24 cores\n",
      "Engine is starting... ready."
     ]
    }
   ],
   "source": [
    "%connect mem>1 cores>2 strategy=bestprice"
   ]
  },
  {
   "cell_type": "code",
   "execution_count": 5,
   "id": "a11dda29-02bb-4cbb-be39-7183ee350d2a",
   "metadata": {},
   "outputs": [
    {
     "name": "stdout",
     "output_type": "stream",
     "text": [
      "Linux (none) 5.10.29-0-virt #1-Alpine SMP Mon, 12 Apr 2021 15:48:39 UTC x86_64 GNU/Linux\n"
     ]
    }
   ],
   "source": [
    "!uname -a"
   ]
  },
  {
   "cell_type": "code",
   "execution_count": 6,
   "id": "1707e19c-dc2b-4b9d-b2d6-8f44669f5bf4",
   "metadata": {
    "tags": []
   },
   "outputs": [],
   "source": [
    "import numpy as np"
   ]
  },
  {
   "cell_type": "code",
   "execution_count": 7,
   "id": "97501c29-c847-436b-ba1f-79a85030eb44",
   "metadata": {
    "tags": []
   },
   "outputs": [],
   "source": [
    "a = np.random.normal(size=[3, 3])\n",
    "b = np.random.normal(size=[3, 3])"
   ]
  },
  {
   "cell_type": "code",
   "execution_count": 8,
   "id": "506b071e-2864-41c1-8a7c-9717a9bf0f5d",
   "metadata": {
    "tags": []
   },
   "outputs": [
    {
     "data": {
      "text/plain": [
       "array([[-0.63681339,  1.14972678, -0.0042919 ],\n",
       "       [ 0.83347323,  0.0870163 ,  1.57078882],\n",
       "       [-0.3761722 , -2.26963594, -2.5243217 ]])"
      ]
     },
     "execution_count": 8,
     "metadata": {},
     "output_type": "execute_result"
    }
   ],
   "source": [
    "np.dot(a,b)"
   ]
  },
  {
   "cell_type": "code",
   "execution_count": 9,
   "id": "5d134c05-8e7a-485b-988d-c607904a9604",
   "metadata": {},
   "outputs": [
    {
     "name": "stdout",
     "output_type": "stream",
     "text": [
      "Disconnecting... done.\n",
      "Total cost: 4.5885530844444e-05\n",
      "Allocated 0.999954114469155556 tglm on rinkeby"
     ]
    }
   ],
   "source": [
    "%disconnect"
   ]
  },
  {
   "cell_type": "code",
   "execution_count": null,
   "id": "693a22b9-8581-4cbc-b5ab-c31608f5defb",
   "metadata": {},
   "outputs": [],
   "source": []
  }
 ],
 "metadata": {
  "kernelspec": {
   "display_name": "Golem",
   "language": "",
   "name": "golem"
  },
  "language_info": {
   "file_extension": ".py",
   "mimetype": "text/x-python",
   "name": "python"
  }
 },
 "nbformat": 4,
 "nbformat_minor": 5
}
